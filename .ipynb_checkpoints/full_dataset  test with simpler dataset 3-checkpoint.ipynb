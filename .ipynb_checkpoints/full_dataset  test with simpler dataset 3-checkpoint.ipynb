{
 "cells": [
  {
   "cell_type": "code",
   "execution_count": 1,
   "metadata": {},
   "outputs": [],
   "source": [
    "# Dependencies and Setup\n",
    "import matplotlib.pyplot as plt\n",
    "import pandas as pd\n",
    "import numpy as np\n",
    "from sklearn.metrics import r2_score\n",
    "from sklearn.metrics import mean_squared_error\n",
    "from numpy import nan\n",
    "import matplotlib.pyplot as plt"
   ]
  },
  {
   "cell_type": "code",
   "execution_count": 2,
   "metadata": {},
   "outputs": [],
   "source": [
    "input_file = 'most-recent-cohorts-all-data-elements-1.csv'\n",
    "column_template = 'column_heading_template.csv'\n",
    "#there were simply too many wierd columns in the original data set of columns.  I went in and deleted several\n",
    "#in the master excel file and regenerated the column template.\n",
    "column_template_2 = 'column_heading_template_3.csv'\n",
    "path = './data/'\n",
    "path2 = './data_documentation/'"
   ]
  },
  {
   "cell_type": "code",
   "execution_count": 3,
   "metadata": {},
   "outputs": [],
   "source": [
    "df = pd.read_csv(path+input_file, low_memory=False)"
   ]
  },
  {
   "cell_type": "code",
   "execution_count": 4,
   "metadata": {},
   "outputs": [
    {
     "data": {
      "text/html": [
       "<div>\n",
       "<style scoped>\n",
       "    .dataframe tbody tr th:only-of-type {\n",
       "        vertical-align: middle;\n",
       "    }\n",
       "\n",
       "    .dataframe tbody tr th {\n",
       "        vertical-align: top;\n",
       "    }\n",
       "\n",
       "    .dataframe thead th {\n",
       "        text-align: right;\n",
       "    }\n",
       "</style>\n",
       "<table border=\"1\" class=\"dataframe\">\n",
       "  <thead>\n",
       "    <tr style=\"text-align: right;\">\n",
       "      <th></th>\n",
       "      <th>UNITID</th>\n",
       "      <th>OPEID</th>\n",
       "      <th>OPEID6</th>\n",
       "      <th>INSTNM</th>\n",
       "      <th>CITY</th>\n",
       "      <th>STABBR</th>\n",
       "      <th>ZIP</th>\n",
       "      <th>ACCREDAGENCY</th>\n",
       "      <th>INSTURL</th>\n",
       "      <th>NPCURL</th>\n",
       "      <th>...</th>\n",
       "      <th>OMENRUP_PARTTIME_POOLED_SUPP</th>\n",
       "      <th>FTFTPCTPELL</th>\n",
       "      <th>FTFTPCTFLOAN</th>\n",
       "      <th>UG12MN</th>\n",
       "      <th>G12MN</th>\n",
       "      <th>SCUGFFN</th>\n",
       "      <th>POOLYRS_FTFTAIDPCT</th>\n",
       "      <th>FTFTPCTPELL_POOLED_SUPP</th>\n",
       "      <th>FTFTPCTFLOAN_POOLED_SUPP</th>\n",
       "      <th>SCUGFFN_POOLED</th>\n",
       "    </tr>\n",
       "  </thead>\n",
       "  <tbody>\n",
       "    <tr>\n",
       "      <th>0</th>\n",
       "      <td>100654</td>\n",
       "      <td>100200</td>\n",
       "      <td>1002</td>\n",
       "      <td>Alabama A &amp; M University</td>\n",
       "      <td>Normal</td>\n",
       "      <td>AL</td>\n",
       "      <td>35762</td>\n",
       "      <td>Southern Association of Colleges and Schools C...</td>\n",
       "      <td>www.aamu.edu/</td>\n",
       "      <td>www.aamu.edu/admissions-aid/tuition-fees/net-p...</td>\n",
       "      <td>...</td>\n",
       "      <td>0.3193</td>\n",
       "      <td>0.7057</td>\n",
       "      <td>0.7143</td>\n",
       "      <td>5343.0</td>\n",
       "      <td>1165.0</td>\n",
       "      <td>1288.0</td>\n",
       "      <td>2.0</td>\n",
       "      <td>0.7083</td>\n",
       "      <td>0.7287</td>\n",
       "      <td>2698.0</td>\n",
       "    </tr>\n",
       "    <tr>\n",
       "      <th>1</th>\n",
       "      <td>100663</td>\n",
       "      <td>105200</td>\n",
       "      <td>1052</td>\n",
       "      <td>University of Alabama at Birmingham</td>\n",
       "      <td>Birmingham</td>\n",
       "      <td>AL</td>\n",
       "      <td>35294-0110</td>\n",
       "      <td>Southern Association of Colleges and Schools C...</td>\n",
       "      <td>https://www.uab.edu</td>\n",
       "      <td>https://uab.studentaidcalculator.com/survey.aspx</td>\n",
       "      <td>...</td>\n",
       "      <td>0.2475</td>\n",
       "      <td>0.3788</td>\n",
       "      <td>0.5350</td>\n",
       "      <td>14445.0</td>\n",
       "      <td>10498.0</td>\n",
       "      <td>2228.0</td>\n",
       "      <td>2.0</td>\n",
       "      <td>0.3891</td>\n",
       "      <td>0.5414</td>\n",
       "      <td>4176.0</td>\n",
       "    </tr>\n",
       "    <tr>\n",
       "      <th>2</th>\n",
       "      <td>100690</td>\n",
       "      <td>2503400</td>\n",
       "      <td>25034</td>\n",
       "      <td>Amridge University</td>\n",
       "      <td>Montgomery</td>\n",
       "      <td>AL</td>\n",
       "      <td>36117-3553</td>\n",
       "      <td>Southern Association of Colleges and Schools C...</td>\n",
       "      <td>www.amridgeuniversity.edu</td>\n",
       "      <td>www2.amridgeuniversity.edu:9091/</td>\n",
       "      <td>...</td>\n",
       "      <td>0.2836</td>\n",
       "      <td>1.0000</td>\n",
       "      <td>1.0000</td>\n",
       "      <td>440.0</td>\n",
       "      <td>527.0</td>\n",
       "      <td>5.0</td>\n",
       "      <td>4.0</td>\n",
       "      <td>PrivacySuppressed</td>\n",
       "      <td>PrivacySuppressed</td>\n",
       "      <td>24.0</td>\n",
       "    </tr>\n",
       "    <tr>\n",
       "      <th>3</th>\n",
       "      <td>100706</td>\n",
       "      <td>105500</td>\n",
       "      <td>1055</td>\n",
       "      <td>University of Alabama in Huntsville</td>\n",
       "      <td>Huntsville</td>\n",
       "      <td>AL</td>\n",
       "      <td>35899</td>\n",
       "      <td>Southern Association of Colleges and Schools C...</td>\n",
       "      <td>www.uah.edu</td>\n",
       "      <td>finaid.uah.edu/</td>\n",
       "      <td>...</td>\n",
       "      <td>0.2496</td>\n",
       "      <td>0.2707</td>\n",
       "      <td>0.4556</td>\n",
       "      <td>8145.0</td>\n",
       "      <td>2443.0</td>\n",
       "      <td>1341.0</td>\n",
       "      <td>2.0</td>\n",
       "      <td>0.2378</td>\n",
       "      <td>0.4402</td>\n",
       "      <td>2544.0</td>\n",
       "    </tr>\n",
       "    <tr>\n",
       "      <th>4</th>\n",
       "      <td>100724</td>\n",
       "      <td>100500</td>\n",
       "      <td>1005</td>\n",
       "      <td>Alabama State University</td>\n",
       "      <td>Montgomery</td>\n",
       "      <td>AL</td>\n",
       "      <td>36104-0271</td>\n",
       "      <td>Southern Association of Colleges and Schools C...</td>\n",
       "      <td>www.alasu.edu</td>\n",
       "      <td>www.alasu.edu/cost-aid/tuition-costs/net-price...</td>\n",
       "      <td>...</td>\n",
       "      <td>0.2621</td>\n",
       "      <td>0.7792</td>\n",
       "      <td>0.7539</td>\n",
       "      <td>4732.0</td>\n",
       "      <td>642.0</td>\n",
       "      <td>951.0</td>\n",
       "      <td>2.0</td>\n",
       "      <td>0.7684</td>\n",
       "      <td>0.7464</td>\n",
       "      <td>2094.0</td>\n",
       "    </tr>\n",
       "    <tr>\n",
       "      <th>...</th>\n",
       "      <td>...</td>\n",
       "      <td>...</td>\n",
       "      <td>...</td>\n",
       "      <td>...</td>\n",
       "      <td>...</td>\n",
       "      <td>...</td>\n",
       "      <td>...</td>\n",
       "      <td>...</td>\n",
       "      <td>...</td>\n",
       "      <td>...</td>\n",
       "      <td>...</td>\n",
       "      <td>...</td>\n",
       "      <td>...</td>\n",
       "      <td>...</td>\n",
       "      <td>...</td>\n",
       "      <td>...</td>\n",
       "      <td>...</td>\n",
       "      <td>...</td>\n",
       "      <td>...</td>\n",
       "      <td>...</td>\n",
       "      <td>...</td>\n",
       "    </tr>\n",
       "    <tr>\n",
       "      <th>6801</th>\n",
       "      <td>48511112</td>\n",
       "      <td>157114</td>\n",
       "      <td>1571</td>\n",
       "      <td>Georgia Military College - Dublin</td>\n",
       "      <td>Dublin</td>\n",
       "      <td>GA</td>\n",
       "      <td>310215149</td>\n",
       "      <td>Southern Association of Colleges and Schools C...</td>\n",
       "      <td>https://www.gmc.edu/index.cms</td>\n",
       "      <td>NaN</td>\n",
       "      <td>...</td>\n",
       "      <td>NaN</td>\n",
       "      <td>NaN</td>\n",
       "      <td>NaN</td>\n",
       "      <td>NaN</td>\n",
       "      <td>NaN</td>\n",
       "      <td>NaN</td>\n",
       "      <td>NaN</td>\n",
       "      <td>NaN</td>\n",
       "      <td>NaN</td>\n",
       "      <td>NaN</td>\n",
       "    </tr>\n",
       "    <tr>\n",
       "      <th>6802</th>\n",
       "      <td>48511113</td>\n",
       "      <td>157115</td>\n",
       "      <td>1571</td>\n",
       "      <td>Georgia Military College - Eastman</td>\n",
       "      <td>Eastman</td>\n",
       "      <td>GA</td>\n",
       "      <td>310236109</td>\n",
       "      <td>Southern Association of Colleges and Schools C...</td>\n",
       "      <td>https://www.gmc.edu/index.cms</td>\n",
       "      <td>NaN</td>\n",
       "      <td>...</td>\n",
       "      <td>NaN</td>\n",
       "      <td>NaN</td>\n",
       "      <td>NaN</td>\n",
       "      <td>NaN</td>\n",
       "      <td>NaN</td>\n",
       "      <td>NaN</td>\n",
       "      <td>NaN</td>\n",
       "      <td>NaN</td>\n",
       "      <td>NaN</td>\n",
       "      <td>NaN</td>\n",
       "    </tr>\n",
       "    <tr>\n",
       "      <th>6803</th>\n",
       "      <td>48616901</td>\n",
       "      <td>4204801</td>\n",
       "      <td>42048</td>\n",
       "      <td>American College of Barbering - Florence</td>\n",
       "      <td>Florence</td>\n",
       "      <td>KY</td>\n",
       "      <td>410421801</td>\n",
       "      <td>National Accrediting Commission of Career Arts...</td>\n",
       "      <td>NaN</td>\n",
       "      <td>NaN</td>\n",
       "      <td>...</td>\n",
       "      <td>NaN</td>\n",
       "      <td>NaN</td>\n",
       "      <td>NaN</td>\n",
       "      <td>NaN</td>\n",
       "      <td>NaN</td>\n",
       "      <td>NaN</td>\n",
       "      <td>NaN</td>\n",
       "      <td>NaN</td>\n",
       "      <td>NaN</td>\n",
       "      <td>NaN</td>\n",
       "    </tr>\n",
       "    <tr>\n",
       "      <th>6804</th>\n",
       "      <td>49005401</td>\n",
       "      <td>4182601</td>\n",
       "      <td>41826</td>\n",
       "      <td>HCI College - Fort Lauderdale Campus</td>\n",
       "      <td>Fort Lauderdale</td>\n",
       "      <td>FL</td>\n",
       "      <td>33309</td>\n",
       "      <td>Accrediting Commission of Career Schools and C...</td>\n",
       "      <td>www.hci.edu/</td>\n",
       "      <td>NaN</td>\n",
       "      <td>...</td>\n",
       "      <td>NaN</td>\n",
       "      <td>NaN</td>\n",
       "      <td>NaN</td>\n",
       "      <td>NaN</td>\n",
       "      <td>NaN</td>\n",
       "      <td>NaN</td>\n",
       "      <td>NaN</td>\n",
       "      <td>NaN</td>\n",
       "      <td>NaN</td>\n",
       "      <td>NaN</td>\n",
       "    </tr>\n",
       "    <tr>\n",
       "      <th>6805</th>\n",
       "      <td>49146401</td>\n",
       "      <td>4227001</td>\n",
       "      <td>42270</td>\n",
       "      <td>ABC Adult School - Cabrillo Lane</td>\n",
       "      <td>Cerritos</td>\n",
       "      <td>CA</td>\n",
       "      <td>907037748</td>\n",
       "      <td>Council on Occupational Education</td>\n",
       "      <td>NaN</td>\n",
       "      <td>NaN</td>\n",
       "      <td>...</td>\n",
       "      <td>NaN</td>\n",
       "      <td>NaN</td>\n",
       "      <td>NaN</td>\n",
       "      <td>NaN</td>\n",
       "      <td>NaN</td>\n",
       "      <td>NaN</td>\n",
       "      <td>NaN</td>\n",
       "      <td>NaN</td>\n",
       "      <td>NaN</td>\n",
       "      <td>NaN</td>\n",
       "    </tr>\n",
       "  </tbody>\n",
       "</table>\n",
       "<p>6806 rows × 1986 columns</p>\n",
       "</div>"
      ],
      "text/plain": [
       "        UNITID    OPEID  OPEID6                                    INSTNM  \\\n",
       "0       100654   100200    1002                  Alabama A & M University   \n",
       "1       100663   105200    1052       University of Alabama at Birmingham   \n",
       "2       100690  2503400   25034                        Amridge University   \n",
       "3       100706   105500    1055       University of Alabama in Huntsville   \n",
       "4       100724   100500    1005                  Alabama State University   \n",
       "...        ...      ...     ...                                       ...   \n",
       "6801  48511112   157114    1571         Georgia Military College - Dublin   \n",
       "6802  48511113   157115    1571        Georgia Military College - Eastman   \n",
       "6803  48616901  4204801   42048  American College of Barbering - Florence   \n",
       "6804  49005401  4182601   41826      HCI College - Fort Lauderdale Campus   \n",
       "6805  49146401  4227001   42270          ABC Adult School - Cabrillo Lane   \n",
       "\n",
       "                 CITY STABBR         ZIP  \\\n",
       "0              Normal     AL       35762   \n",
       "1          Birmingham     AL  35294-0110   \n",
       "2          Montgomery     AL  36117-3553   \n",
       "3          Huntsville     AL       35899   \n",
       "4          Montgomery     AL  36104-0271   \n",
       "...               ...    ...         ...   \n",
       "6801           Dublin     GA   310215149   \n",
       "6802          Eastman     GA   310236109   \n",
       "6803         Florence     KY   410421801   \n",
       "6804  Fort Lauderdale     FL       33309   \n",
       "6805         Cerritos     CA   907037748   \n",
       "\n",
       "                                           ACCREDAGENCY  \\\n",
       "0     Southern Association of Colleges and Schools C...   \n",
       "1     Southern Association of Colleges and Schools C...   \n",
       "2     Southern Association of Colleges and Schools C...   \n",
       "3     Southern Association of Colleges and Schools C...   \n",
       "4     Southern Association of Colleges and Schools C...   \n",
       "...                                                 ...   \n",
       "6801  Southern Association of Colleges and Schools C...   \n",
       "6802  Southern Association of Colleges and Schools C...   \n",
       "6803  National Accrediting Commission of Career Arts...   \n",
       "6804  Accrediting Commission of Career Schools and C...   \n",
       "6805                  Council on Occupational Education   \n",
       "\n",
       "                            INSTURL  \\\n",
       "0                     www.aamu.edu/   \n",
       "1               https://www.uab.edu   \n",
       "2         www.amridgeuniversity.edu   \n",
       "3                       www.uah.edu   \n",
       "4                     www.alasu.edu   \n",
       "...                             ...   \n",
       "6801  https://www.gmc.edu/index.cms   \n",
       "6802  https://www.gmc.edu/index.cms   \n",
       "6803                            NaN   \n",
       "6804                   www.hci.edu/   \n",
       "6805                            NaN   \n",
       "\n",
       "                                                 NPCURL  ...  \\\n",
       "0     www.aamu.edu/admissions-aid/tuition-fees/net-p...  ...   \n",
       "1      https://uab.studentaidcalculator.com/survey.aspx  ...   \n",
       "2                      www2.amridgeuniversity.edu:9091/  ...   \n",
       "3                                       finaid.uah.edu/  ...   \n",
       "4     www.alasu.edu/cost-aid/tuition-costs/net-price...  ...   \n",
       "...                                                 ...  ...   \n",
       "6801                                                NaN  ...   \n",
       "6802                                                NaN  ...   \n",
       "6803                                                NaN  ...   \n",
       "6804                                                NaN  ...   \n",
       "6805                                                NaN  ...   \n",
       "\n",
       "      OMENRUP_PARTTIME_POOLED_SUPP  FTFTPCTPELL  FTFTPCTFLOAN   UG12MN  \\\n",
       "0                           0.3193       0.7057        0.7143   5343.0   \n",
       "1                           0.2475       0.3788        0.5350  14445.0   \n",
       "2                           0.2836       1.0000        1.0000    440.0   \n",
       "3                           0.2496       0.2707        0.4556   8145.0   \n",
       "4                           0.2621       0.7792        0.7539   4732.0   \n",
       "...                            ...          ...           ...      ...   \n",
       "6801                           NaN          NaN           NaN      NaN   \n",
       "6802                           NaN          NaN           NaN      NaN   \n",
       "6803                           NaN          NaN           NaN      NaN   \n",
       "6804                           NaN          NaN           NaN      NaN   \n",
       "6805                           NaN          NaN           NaN      NaN   \n",
       "\n",
       "        G12MN  SCUGFFN  POOLYRS_FTFTAIDPCT  FTFTPCTPELL_POOLED_SUPP  \\\n",
       "0      1165.0   1288.0                 2.0                   0.7083   \n",
       "1     10498.0   2228.0                 2.0                   0.3891   \n",
       "2       527.0      5.0                 4.0        PrivacySuppressed   \n",
       "3      2443.0   1341.0                 2.0                   0.2378   \n",
       "4       642.0    951.0                 2.0                   0.7684   \n",
       "...       ...      ...                 ...                      ...   \n",
       "6801      NaN      NaN                 NaN                      NaN   \n",
       "6802      NaN      NaN                 NaN                      NaN   \n",
       "6803      NaN      NaN                 NaN                      NaN   \n",
       "6804      NaN      NaN                 NaN                      NaN   \n",
       "6805      NaN      NaN                 NaN                      NaN   \n",
       "\n",
       "      FTFTPCTFLOAN_POOLED_SUPP  SCUGFFN_POOLED  \n",
       "0                       0.7287          2698.0  \n",
       "1                       0.5414          4176.0  \n",
       "2            PrivacySuppressed            24.0  \n",
       "3                       0.4402          2544.0  \n",
       "4                       0.7464          2094.0  \n",
       "...                        ...             ...  \n",
       "6801                       NaN             NaN  \n",
       "6802                       NaN             NaN  \n",
       "6803                       NaN             NaN  \n",
       "6804                       NaN             NaN  \n",
       "6805                       NaN             NaN  \n",
       "\n",
       "[6806 rows x 1986 columns]"
      ]
     },
     "execution_count": 4,
     "metadata": {},
     "output_type": "execute_result"
    }
   ],
   "source": [
    "df"
   ]
  },
  {
   "cell_type": "code",
   "execution_count": 5,
   "metadata": {},
   "outputs": [
    {
     "data": {
      "text/plain": [
       "100663"
      ]
     },
     "execution_count": 5,
     "metadata": {},
     "output_type": "execute_result"
    }
   ],
   "source": [
    "df.loc[1,'UNITID']"
   ]
  },
  {
   "cell_type": "code",
   "execution_count": 6,
   "metadata": {},
   "outputs": [
    {
     "data": {
      "text/plain": [
       "6806"
      ]
     },
     "execution_count": 6,
     "metadata": {},
     "output_type": "execute_result"
    }
   ],
   "source": [
    "len(df)"
   ]
  },
  {
   "cell_type": "code",
   "execution_count": 7,
   "metadata": {},
   "outputs": [],
   "source": [
    "df.replace(to_replace = 'PrivacySuppressed', value = nan, inplace = True)"
   ]
  },
  {
   "cell_type": "code",
   "execution_count": 8,
   "metadata": {},
   "outputs": [
    {
     "data": {
      "text/plain": [
       "23    NaN\n",
       "Name: MN_EARN_WNE_P8, dtype: object"
      ]
     },
     "execution_count": 8,
     "metadata": {},
     "output_type": "execute_result"
    }
   ],
   "source": [
    "df.loc[df['OPEID6'] == 21997, 'MN_EARN_WNE_P8']"
   ]
  },
  {
   "cell_type": "code",
   "execution_count": 9,
   "metadata": {},
   "outputs": [],
   "source": [
    "column_heading_df = pd.read_csv(path2 + column_template_2)"
   ]
  },
  {
   "cell_type": "code",
   "execution_count": 10,
   "metadata": {},
   "outputs": [
    {
     "data": {
      "text/html": [
       "<div>\n",
       "<style scoped>\n",
       "    .dataframe tbody tr th:only-of-type {\n",
       "        vertical-align: middle;\n",
       "    }\n",
       "\n",
       "    .dataframe tbody tr th {\n",
       "        vertical-align: top;\n",
       "    }\n",
       "\n",
       "    .dataframe thead th {\n",
       "        text-align: right;\n",
       "    }\n",
       "</style>\n",
       "<table border=\"1\" class=\"dataframe\">\n",
       "  <thead>\n",
       "    <tr style=\"text-align: right;\">\n",
       "      <th></th>\n",
       "      <th>dev-category</th>\n",
       "      <th>NAME OF DATA ELEMENT</th>\n",
       "      <th>developer-friendly name</th>\n",
       "      <th>API data type</th>\n",
       "      <th>VARIABLE NAME</th>\n",
       "      <th>VALUE</th>\n",
       "      <th>LABEL</th>\n",
       "    </tr>\n",
       "  </thead>\n",
       "  <tbody>\n",
       "    <tr>\n",
       "      <th>0</th>\n",
       "      <td>academics</td>\n",
       "      <td>Percentage of degrees awarded in Agriculture, ...</td>\n",
       "      <td>program_percentage.agriculture</td>\n",
       "      <td>float</td>\n",
       "      <td>PCIP01</td>\n",
       "      <td>(blank)</td>\n",
       "      <td>Agriculture, Agriculture Operations, and Relat...</td>\n",
       "    </tr>\n",
       "    <tr>\n",
       "      <th>1</th>\n",
       "      <td>academics</td>\n",
       "      <td>Percentage of degrees awarded in Architecture ...</td>\n",
       "      <td>program_percentage.architecture</td>\n",
       "      <td>float</td>\n",
       "      <td>PCIP04</td>\n",
       "      <td>(blank)</td>\n",
       "      <td>Architecture and Related Services</td>\n",
       "    </tr>\n",
       "    <tr>\n",
       "      <th>2</th>\n",
       "      <td>academics</td>\n",
       "      <td>Percentage of degrees awarded in Area, Ethnic,...</td>\n",
       "      <td>program_percentage.ethnic_cultural_gender</td>\n",
       "      <td>float</td>\n",
       "      <td>PCIP05</td>\n",
       "      <td>(blank)</td>\n",
       "      <td>Area, Ethnic, Cultural, Gender, and Group Studies</td>\n",
       "    </tr>\n",
       "    <tr>\n",
       "      <th>3</th>\n",
       "      <td>academics</td>\n",
       "      <td>Percentage of degrees awarded in Biological An...</td>\n",
       "      <td>program_percentage.biological</td>\n",
       "      <td>float</td>\n",
       "      <td>PCIP26</td>\n",
       "      <td>(blank)</td>\n",
       "      <td>Biological and Biomedical Sciences</td>\n",
       "    </tr>\n",
       "    <tr>\n",
       "      <th>4</th>\n",
       "      <td>academics</td>\n",
       "      <td>Percentage of degrees awarded in Business, Man...</td>\n",
       "      <td>program_percentage.business_marketing</td>\n",
       "      <td>float</td>\n",
       "      <td>PCIP52</td>\n",
       "      <td>(blank)</td>\n",
       "      <td>Business, Management, Marketing, and Related S...</td>\n",
       "    </tr>\n",
       "    <tr>\n",
       "      <th>...</th>\n",
       "      <td>...</td>\n",
       "      <td>...</td>\n",
       "      <td>...</td>\n",
       "      <td>...</td>\n",
       "      <td>...</td>\n",
       "      <td>...</td>\n",
       "      <td>...</td>\n",
       "    </tr>\n",
       "    <tr>\n",
       "      <th>188</th>\n",
       "      <td>student</td>\n",
       "      <td>Total share of enrollment of undergraduate stu...</td>\n",
       "      <td>demographics.race_ethnicity.hispanic_2000</td>\n",
       "      <td>float</td>\n",
       "      <td>UG_HISPOLD</td>\n",
       "      <td>(blank)</td>\n",
       "      <td>(blank)</td>\n",
       "    </tr>\n",
       "    <tr>\n",
       "      <th>189</th>\n",
       "      <td>student</td>\n",
       "      <td>Total share of enrollment of undergraduate stu...</td>\n",
       "      <td>demographics.non_resident_aliens_2000</td>\n",
       "      <td>float</td>\n",
       "      <td>UG_NRA</td>\n",
       "      <td>(blank)</td>\n",
       "      <td>(blank)</td>\n",
       "    </tr>\n",
       "    <tr>\n",
       "      <th>190</th>\n",
       "      <td>student</td>\n",
       "      <td>Total share of enrollment of undergraduate stu...</td>\n",
       "      <td>demographics.race_ethnicity.white_2000</td>\n",
       "      <td>float</td>\n",
       "      <td>UG_WHITENH</td>\n",
       "      <td>(blank)</td>\n",
       "      <td>(blank)</td>\n",
       "    </tr>\n",
       "    <tr>\n",
       "      <th>191</th>\n",
       "      <td>student</td>\n",
       "      <td>Total share of enrollment of undergraduate stu...</td>\n",
       "      <td>demographics.race_ethnicity.unknown_2000</td>\n",
       "      <td>float</td>\n",
       "      <td>UG_UNKN</td>\n",
       "      <td>(blank)</td>\n",
       "      <td>(blank)</td>\n",
       "    </tr>\n",
       "    <tr>\n",
       "      <th>192</th>\n",
       "      <td>student</td>\n",
       "      <td>Unemployment rate, via Census data</td>\n",
       "      <td>demographics.unemployment</td>\n",
       "      <td>float</td>\n",
       "      <td>UNEMP_RATE</td>\n",
       "      <td>(blank)</td>\n",
       "      <td>(blank)</td>\n",
       "    </tr>\n",
       "  </tbody>\n",
       "</table>\n",
       "<p>193 rows × 7 columns</p>\n",
       "</div>"
      ],
      "text/plain": [
       "    dev-category                               NAME OF DATA ELEMENT  \\\n",
       "0      academics  Percentage of degrees awarded in Agriculture, ...   \n",
       "1      academics  Percentage of degrees awarded in Architecture ...   \n",
       "2      academics  Percentage of degrees awarded in Area, Ethnic,...   \n",
       "3      academics  Percentage of degrees awarded in Biological An...   \n",
       "4      academics  Percentage of degrees awarded in Business, Man...   \n",
       "..           ...                                                ...   \n",
       "188      student  Total share of enrollment of undergraduate stu...   \n",
       "189      student  Total share of enrollment of undergraduate stu...   \n",
       "190      student  Total share of enrollment of undergraduate stu...   \n",
       "191      student  Total share of enrollment of undergraduate stu...   \n",
       "192      student                 Unemployment rate, via Census data   \n",
       "\n",
       "                       developer-friendly name API data type VARIABLE NAME  \\\n",
       "0               program_percentage.agriculture         float        PCIP01   \n",
       "1              program_percentage.architecture         float        PCIP04   \n",
       "2    program_percentage.ethnic_cultural_gender         float        PCIP05   \n",
       "3                program_percentage.biological         float        PCIP26   \n",
       "4        program_percentage.business_marketing         float        PCIP52   \n",
       "..                                         ...           ...           ...   \n",
       "188  demographics.race_ethnicity.hispanic_2000         float    UG_HISPOLD   \n",
       "189      demographics.non_resident_aliens_2000         float        UG_NRA   \n",
       "190     demographics.race_ethnicity.white_2000         float    UG_WHITENH   \n",
       "191   demographics.race_ethnicity.unknown_2000         float       UG_UNKN   \n",
       "192                  demographics.unemployment         float    UNEMP_RATE   \n",
       "\n",
       "       VALUE                                              LABEL  \n",
       "0    (blank)  Agriculture, Agriculture Operations, and Relat...  \n",
       "1    (blank)                  Architecture and Related Services  \n",
       "2    (blank)  Area, Ethnic, Cultural, Gender, and Group Studies  \n",
       "3    (blank)                 Biological and Biomedical Sciences  \n",
       "4    (blank)  Business, Management, Marketing, and Related S...  \n",
       "..       ...                                                ...  \n",
       "188  (blank)                                            (blank)  \n",
       "189  (blank)                                            (blank)  \n",
       "190  (blank)                                            (blank)  \n",
       "191  (blank)                                            (blank)  \n",
       "192  (blank)                                            (blank)  \n",
       "\n",
       "[193 rows x 7 columns]"
      ]
     },
     "execution_count": 10,
     "metadata": {},
     "output_type": "execute_result"
    }
   ],
   "source": [
    "column_heading_df"
   ]
  },
  {
   "cell_type": "code",
   "execution_count": null,
   "metadata": {},
   "outputs": [],
   "source": []
  },
  {
   "cell_type": "code",
   "execution_count": 11,
   "metadata": {},
   "outputs": [
    {
     "data": {
      "text/plain": [
       "['UNITID',\n",
       " 'OPEID',\n",
       " 'OPEID6',\n",
       " 'INSTNM',\n",
       " 'CITY',\n",
       " 'STABBR',\n",
       " 'ZIP',\n",
       " 'ACCREDAGENCY',\n",
       " 'INSTURL',\n",
       " 'NPCURL',\n",
       " 'SCH_DEG',\n",
       " 'HCM2',\n",
       " 'MAIN',\n",
       " 'NUMBRANCH',\n",
       " 'PREDDEG',\n",
       " 'HIGHDEG',\n",
       " 'CONTROL',\n",
       " 'ST_FIPS',\n",
       " 'REGION',\n",
       " 'LOCALE',\n",
       " 'LOCALE2',\n",
       " 'LATITUDE',\n",
       " 'LONGITUDE',\n",
       " 'CCBASIC',\n",
       " 'CCUGPROF',\n",
       " 'CCSIZSET',\n",
       " 'HBCU',\n",
       " 'PBI',\n",
       " 'ANNHI',\n",
       " 'TRIBAL',\n",
       " 'AANAPII',\n",
       " 'HSI',\n",
       " 'NANTI',\n",
       " 'MENONLY',\n",
       " 'WOMENONLY',\n",
       " 'RELAFFIL',\n",
       " 'ADM_RATE',\n",
       " 'ADM_RATE_ALL',\n",
       " 'SATVR25',\n",
       " 'SATVR75',\n",
       " 'SATMT25',\n",
       " 'SATMT75',\n",
       " 'SATWR25',\n",
       " 'SATWR75',\n",
       " 'SATVRMID',\n",
       " 'SATMTMID',\n",
       " 'SATWRMID',\n",
       " 'ACTCM25',\n",
       " 'ACTCM75',\n",
       " 'ACTEN25',\n",
       " 'ACTEN75',\n",
       " 'ACTMT25',\n",
       " 'ACTMT75',\n",
       " 'ACTWR25',\n",
       " 'ACTWR75',\n",
       " 'ACTCMMID',\n",
       " 'ACTENMID',\n",
       " 'ACTMTMID',\n",
       " 'ACTWRMID',\n",
       " 'SAT_AVG',\n",
       " 'SAT_AVG_ALL',\n",
       " 'PCIP01',\n",
       " 'PCIP03',\n",
       " 'PCIP04',\n",
       " 'PCIP05',\n",
       " 'PCIP09',\n",
       " 'PCIP10',\n",
       " 'PCIP11',\n",
       " 'PCIP12',\n",
       " 'PCIP13',\n",
       " 'PCIP14',\n",
       " 'PCIP15',\n",
       " 'PCIP16',\n",
       " 'PCIP19',\n",
       " 'PCIP22',\n",
       " 'PCIP23',\n",
       " 'PCIP24',\n",
       " 'PCIP25',\n",
       " 'PCIP26',\n",
       " 'PCIP27',\n",
       " 'PCIP29',\n",
       " 'PCIP30',\n",
       " 'PCIP31',\n",
       " 'PCIP38',\n",
       " 'PCIP39',\n",
       " 'PCIP40',\n",
       " 'PCIP41',\n",
       " 'PCIP42',\n",
       " 'PCIP43',\n",
       " 'PCIP44',\n",
       " 'PCIP45',\n",
       " 'PCIP46',\n",
       " 'PCIP47',\n",
       " 'PCIP48',\n",
       " 'PCIP49',\n",
       " 'PCIP50',\n",
       " 'PCIP51',\n",
       " 'PCIP52',\n",
       " 'PCIP54',\n",
       " 'CIP01CERT1',\n",
       " 'CIP01CERT2',\n",
       " 'CIP01ASSOC',\n",
       " 'CIP01CERT4',\n",
       " 'CIP01BACHL',\n",
       " 'CIP03CERT1',\n",
       " 'CIP03CERT2',\n",
       " 'CIP03ASSOC',\n",
       " 'CIP03CERT4',\n",
       " 'CIP03BACHL',\n",
       " 'CIP04CERT1',\n",
       " 'CIP04CERT2',\n",
       " 'CIP04ASSOC',\n",
       " 'CIP04CERT4',\n",
       " 'CIP04BACHL',\n",
       " 'CIP05CERT1',\n",
       " 'CIP05CERT2',\n",
       " 'CIP05ASSOC',\n",
       " 'CIP05CERT4',\n",
       " 'CIP05BACHL',\n",
       " 'CIP09CERT1',\n",
       " 'CIP09CERT2',\n",
       " 'CIP09ASSOC',\n",
       " 'CIP09CERT4',\n",
       " 'CIP09BACHL',\n",
       " 'CIP10CERT1',\n",
       " 'CIP10CERT2',\n",
       " 'CIP10ASSOC',\n",
       " 'CIP10CERT4',\n",
       " 'CIP10BACHL',\n",
       " 'CIP11CERT1',\n",
       " 'CIP11CERT2',\n",
       " 'CIP11ASSOC',\n",
       " 'CIP11CERT4',\n",
       " 'CIP11BACHL',\n",
       " 'CIP12CERT1',\n",
       " 'CIP12CERT2',\n",
       " 'CIP12ASSOC',\n",
       " 'CIP12CERT4',\n",
       " 'CIP12BACHL',\n",
       " 'CIP13CERT1',\n",
       " 'CIP13CERT2',\n",
       " 'CIP13ASSOC',\n",
       " 'CIP13CERT4',\n",
       " 'CIP13BACHL',\n",
       " 'CIP14CERT1',\n",
       " 'CIP14CERT2',\n",
       " 'CIP14ASSOC',\n",
       " 'CIP14CERT4',\n",
       " 'CIP14BACHL',\n",
       " 'CIP15CERT1',\n",
       " 'CIP15CERT2',\n",
       " 'CIP15ASSOC',\n",
       " 'CIP15CERT4',\n",
       " 'CIP15BACHL',\n",
       " 'CIP16CERT1',\n",
       " 'CIP16CERT2',\n",
       " 'CIP16ASSOC',\n",
       " 'CIP16CERT4',\n",
       " 'CIP16BACHL',\n",
       " 'CIP19CERT1',\n",
       " 'CIP19CERT2',\n",
       " 'CIP19ASSOC',\n",
       " 'CIP19CERT4',\n",
       " 'CIP19BACHL',\n",
       " 'CIP22CERT1',\n",
       " 'CIP22CERT2',\n",
       " 'CIP22ASSOC',\n",
       " 'CIP22CERT4',\n",
       " 'CIP22BACHL',\n",
       " 'CIP23CERT1',\n",
       " 'CIP23CERT2',\n",
       " 'CIP23ASSOC',\n",
       " 'CIP23CERT4',\n",
       " 'CIP23BACHL',\n",
       " 'CIP24CERT1',\n",
       " 'CIP24CERT2',\n",
       " 'CIP24ASSOC',\n",
       " 'CIP24CERT4',\n",
       " 'CIP24BACHL',\n",
       " 'CIP25CERT1',\n",
       " 'CIP25CERT2',\n",
       " 'CIP25ASSOC',\n",
       " 'CIP25CERT4',\n",
       " 'CIP25BACHL',\n",
       " 'CIP26CERT1',\n",
       " 'CIP26CERT2',\n",
       " 'CIP26ASSOC',\n",
       " 'CIP26CERT4',\n",
       " 'CIP26BACHL',\n",
       " 'CIP27CERT1',\n",
       " 'CIP27CERT2',\n",
       " 'CIP27ASSOC',\n",
       " 'CIP27CERT4',\n",
       " 'CIP27BACHL',\n",
       " 'CIP29CERT1',\n",
       " 'CIP29CERT2',\n",
       " 'CIP29ASSOC',\n",
       " 'CIP29CERT4',\n",
       " 'CIP29BACHL',\n",
       " 'CIP30CERT1',\n",
       " 'CIP30CERT2',\n",
       " 'CIP30ASSOC',\n",
       " 'CIP30CERT4',\n",
       " 'CIP30BACHL',\n",
       " 'CIP31CERT1',\n",
       " 'CIP31CERT2',\n",
       " 'CIP31ASSOC',\n",
       " 'CIP31CERT4',\n",
       " 'CIP31BACHL',\n",
       " 'CIP38CERT1',\n",
       " 'CIP38CERT2',\n",
       " 'CIP38ASSOC',\n",
       " 'CIP38CERT4',\n",
       " 'CIP38BACHL',\n",
       " 'CIP39CERT1',\n",
       " 'CIP39CERT2',\n",
       " 'CIP39ASSOC',\n",
       " 'CIP39CERT4',\n",
       " 'CIP39BACHL',\n",
       " 'CIP40CERT1',\n",
       " 'CIP40CERT2',\n",
       " 'CIP40ASSOC',\n",
       " 'CIP40CERT4',\n",
       " 'CIP40BACHL',\n",
       " 'CIP41CERT1',\n",
       " 'CIP41CERT2',\n",
       " 'CIP41ASSOC',\n",
       " 'CIP41CERT4',\n",
       " 'CIP41BACHL',\n",
       " 'CIP42CERT1',\n",
       " 'CIP42CERT2',\n",
       " 'CIP42ASSOC',\n",
       " 'CIP42CERT4',\n",
       " 'CIP42BACHL',\n",
       " 'CIP43CERT1',\n",
       " 'CIP43CERT2',\n",
       " 'CIP43ASSOC',\n",
       " 'CIP43CERT4',\n",
       " 'CIP43BACHL',\n",
       " 'CIP44CERT1',\n",
       " 'CIP44CERT2',\n",
       " 'CIP44ASSOC',\n",
       " 'CIP44CERT4',\n",
       " 'CIP44BACHL',\n",
       " 'CIP45CERT1',\n",
       " 'CIP45CERT2',\n",
       " 'CIP45ASSOC',\n",
       " 'CIP45CERT4',\n",
       " 'CIP45BACHL',\n",
       " 'CIP46CERT1',\n",
       " 'CIP46CERT2',\n",
       " 'CIP46ASSOC',\n",
       " 'CIP46CERT4',\n",
       " 'CIP46BACHL',\n",
       " 'CIP47CERT1',\n",
       " 'CIP47CERT2',\n",
       " 'CIP47ASSOC',\n",
       " 'CIP47CERT4',\n",
       " 'CIP47BACHL',\n",
       " 'CIP48CERT1',\n",
       " 'CIP48CERT2',\n",
       " 'CIP48ASSOC',\n",
       " 'CIP48CERT4',\n",
       " 'CIP48BACHL',\n",
       " 'CIP49CERT1',\n",
       " 'CIP49CERT2',\n",
       " 'CIP49ASSOC',\n",
       " 'CIP49CERT4',\n",
       " 'CIP49BACHL',\n",
       " 'CIP50CERT1',\n",
       " 'CIP50CERT2',\n",
       " 'CIP50ASSOC',\n",
       " 'CIP50CERT4',\n",
       " 'CIP50BACHL',\n",
       " 'CIP51CERT1',\n",
       " 'CIP51CERT2',\n",
       " 'CIP51ASSOC',\n",
       " 'CIP51CERT4',\n",
       " 'CIP51BACHL',\n",
       " 'CIP52CERT1',\n",
       " 'CIP52CERT2',\n",
       " 'CIP52ASSOC',\n",
       " 'CIP52CERT4',\n",
       " 'CIP52BACHL',\n",
       " 'CIP54CERT1',\n",
       " 'CIP54CERT2',\n",
       " 'CIP54ASSOC',\n",
       " 'CIP54CERT4',\n",
       " 'CIP54BACHL',\n",
       " 'DISTANCEONLY',\n",
       " 'UGDS',\n",
       " 'UG',\n",
       " 'UGDS_WHITE',\n",
       " 'UGDS_BLACK',\n",
       " 'UGDS_HISP',\n",
       " 'UGDS_ASIAN',\n",
       " 'UGDS_AIAN',\n",
       " 'UGDS_NHPI',\n",
       " 'UGDS_2MOR',\n",
       " 'UGDS_NRA',\n",
       " 'UGDS_UNKN',\n",
       " 'UGDS_WHITENH',\n",
       " 'UGDS_BLACKNH',\n",
       " 'UGDS_API',\n",
       " 'UGDS_AIANOLD',\n",
       " 'UGDS_HISPOLD',\n",
       " 'UG_NRA',\n",
       " 'UG_UNKN',\n",
       " 'UG_WHITENH',\n",
       " 'UG_BLACKNH',\n",
       " 'UG_API',\n",
       " 'UG_AIANOLD',\n",
       " 'UG_HISPOLD',\n",
       " 'PPTUG_EF',\n",
       " 'PPTUG_EF2',\n",
       " 'CURROPER',\n",
       " 'NPT4_PUB',\n",
       " 'NPT4_PRIV',\n",
       " 'NPT4_PROG',\n",
       " 'NPT4_OTHER',\n",
       " 'NPT41_PUB',\n",
       " 'NPT42_PUB',\n",
       " 'NPT43_PUB',\n",
       " 'NPT44_PUB',\n",
       " 'NPT45_PUB',\n",
       " 'NPT41_PRIV',\n",
       " 'NPT42_PRIV',\n",
       " 'NPT43_PRIV',\n",
       " 'NPT44_PRIV',\n",
       " 'NPT45_PRIV',\n",
       " 'NPT41_PROG',\n",
       " 'NPT42_PROG',\n",
       " 'NPT43_PROG',\n",
       " 'NPT44_PROG',\n",
       " 'NPT45_PROG',\n",
       " 'NPT41_OTHER',\n",
       " 'NPT42_OTHER',\n",
       " 'NPT43_OTHER',\n",
       " 'NPT44_OTHER',\n",
       " 'NPT45_OTHER',\n",
       " 'NPT4_048_PUB',\n",
       " 'NPT4_048_PRIV',\n",
       " 'NPT4_048_PROG',\n",
       " 'NPT4_048_OTHER',\n",
       " 'NPT4_3075_PUB',\n",
       " 'NPT4_3075_PRIV',\n",
       " 'NPT4_75UP_PUB',\n",
       " 'NPT4_75UP_PRIV',\n",
       " 'NPT4_3075_PROG',\n",
       " 'NPT4_3075_OTHER',\n",
       " 'NPT4_75UP_PROG',\n",
       " 'NPT4_75UP_OTHER',\n",
       " 'NUM4_PUB',\n",
       " 'NUM4_PRIV',\n",
       " 'NUM4_PROG',\n",
       " 'NUM4_OTHER',\n",
       " 'NUM41_PUB',\n",
       " 'NUM42_PUB',\n",
       " 'NUM43_PUB',\n",
       " 'NUM44_PUB',\n",
       " 'NUM45_PUB',\n",
       " 'NUM41_PRIV',\n",
       " 'NUM42_PRIV',\n",
       " 'NUM43_PRIV',\n",
       " 'NUM44_PRIV',\n",
       " 'NUM45_PRIV',\n",
       " 'NUM41_PROG',\n",
       " 'NUM42_PROG',\n",
       " 'NUM43_PROG',\n",
       " 'NUM44_PROG',\n",
       " 'NUM45_PROG',\n",
       " 'NUM41_OTHER',\n",
       " 'NUM42_OTHER',\n",
       " 'NUM43_OTHER',\n",
       " 'NUM44_OTHER',\n",
       " 'NUM45_OTHER',\n",
       " 'COSTT4_A',\n",
       " 'COSTT4_P',\n",
       " 'TUITIONFEE_IN',\n",
       " 'TUITIONFEE_OUT',\n",
       " 'TUITIONFEE_PROG',\n",
       " 'TUITFTE',\n",
       " 'INEXPFTE',\n",
       " 'AVGFACSAL',\n",
       " 'PFTFAC',\n",
       " 'PCTPELL',\n",
       " 'C150_4',\n",
       " 'C150_L4',\n",
       " 'C150_4_POOLED',\n",
       " 'C150_L4_POOLED',\n",
       " 'POOLYRS',\n",
       " 'PFTFTUG1_EF',\n",
       " 'D150_4',\n",
       " 'D150_L4',\n",
       " 'D150_4_POOLED',\n",
       " 'D150_L4_POOLED',\n",
       " 'C150_4_WHITE',\n",
       " 'C150_4_BLACK',\n",
       " 'C150_4_HISP',\n",
       " 'C150_4_ASIAN',\n",
       " 'C150_4_AIAN',\n",
       " 'C150_4_NHPI',\n",
       " 'C150_4_2MOR',\n",
       " 'C150_4_NRA',\n",
       " 'C150_4_UNKN',\n",
       " 'C150_4_WHITENH',\n",
       " 'C150_4_BLACKNH',\n",
       " 'C150_4_API',\n",
       " 'C150_4_AIANOLD',\n",
       " 'C150_4_HISPOLD',\n",
       " 'C150_L4_WHITE',\n",
       " 'C150_L4_BLACK',\n",
       " 'C150_L4_HISP',\n",
       " 'C150_L4_ASIAN',\n",
       " 'C150_L4_AIAN',\n",
       " 'C150_L4_NHPI',\n",
       " 'C150_L4_2MOR',\n",
       " 'C150_L4_NRA',\n",
       " 'C150_L4_UNKN',\n",
       " 'C150_L4_WHITENH',\n",
       " 'C150_L4_BLACKNH',\n",
       " 'C150_L4_API',\n",
       " 'C150_L4_AIANOLD',\n",
       " 'C150_L4_HISPOLD',\n",
       " 'C200_4',\n",
       " 'C200_L4',\n",
       " 'D200_4',\n",
       " 'D200_L4',\n",
       " 'RET_FT4',\n",
       " 'RET_FTL4',\n",
       " 'RET_PT4',\n",
       " 'RET_PTL4',\n",
       " 'C200_4_POOLED',\n",
       " 'C200_L4_POOLED',\n",
       " 'POOLYRS200',\n",
       " 'D200_4_POOLED',\n",
       " 'D200_L4_POOLED',\n",
       " 'PCTFLOAN',\n",
       " 'UG25ABV',\n",
       " 'CDR2',\n",
       " 'CDR3',\n",
       " 'DEATH_YR2_RT',\n",
       " 'COMP_ORIG_YR2_RT',\n",
       " 'COMP_4YR_TRANS_YR2_RT',\n",
       " 'COMP_2YR_TRANS_YR2_RT',\n",
       " 'WDRAW_ORIG_YR2_RT',\n",
       " 'WDRAW_4YR_TRANS_YR2_RT',\n",
       " 'WDRAW_2YR_TRANS_YR2_RT',\n",
       " 'ENRL_ORIG_YR2_RT',\n",
       " 'ENRL_4YR_TRANS_YR2_RT',\n",
       " 'ENRL_2YR_TRANS_YR2_RT',\n",
       " 'UNKN_ORIG_YR2_RT',\n",
       " 'UNKN_4YR_TRANS_YR2_RT',\n",
       " 'UNKN_2YR_TRANS_YR2_RT',\n",
       " 'LO_INC_DEATH_YR2_RT',\n",
       " 'LO_INC_COMP_ORIG_YR2_RT',\n",
       " 'LO_INC_COMP_4YR_TRANS_YR2_RT',\n",
       " 'LO_INC_COMP_2YR_TRANS_YR2_RT',\n",
       " 'LO_INC_WDRAW_ORIG_YR2_RT',\n",
       " 'LO_INC_WDRAW_4YR_TRANS_YR2_RT',\n",
       " 'LO_INC_WDRAW_2YR_TRANS_YR2_RT',\n",
       " 'LO_INC_ENRL_ORIG_YR2_RT',\n",
       " 'LO_INC_ENRL_4YR_TRANS_YR2_RT',\n",
       " 'LO_INC_ENRL_2YR_TRANS_YR2_RT',\n",
       " 'LO_INC_UNKN_ORIG_YR2_RT',\n",
       " 'LO_INC_UNKN_4YR_TRANS_YR2_RT',\n",
       " 'LO_INC_UNKN_2YR_TRANS_YR2_RT',\n",
       " 'MD_INC_DEATH_YR2_RT',\n",
       " 'MD_INC_COMP_ORIG_YR2_RT',\n",
       " 'MD_INC_COMP_4YR_TRANS_YR2_RT',\n",
       " 'MD_INC_COMP_2YR_TRANS_YR2_RT',\n",
       " 'MD_INC_WDRAW_ORIG_YR2_RT',\n",
       " 'MD_INC_WDRAW_4YR_TRANS_YR2_RT',\n",
       " 'MD_INC_WDRAW_2YR_TRANS_YR2_RT',\n",
       " 'MD_INC_ENRL_ORIG_YR2_RT',\n",
       " 'MD_INC_ENRL_4YR_TRANS_YR2_RT',\n",
       " 'MD_INC_ENRL_2YR_TRANS_YR2_RT',\n",
       " 'MD_INC_UNKN_ORIG_YR2_RT',\n",
       " 'MD_INC_UNKN_4YR_TRANS_YR2_RT',\n",
       " 'MD_INC_UNKN_2YR_TRANS_YR2_RT',\n",
       " 'HI_INC_DEATH_YR2_RT',\n",
       " 'HI_INC_COMP_ORIG_YR2_RT',\n",
       " 'HI_INC_COMP_4YR_TRANS_YR2_RT',\n",
       " 'HI_INC_COMP_2YR_TRANS_YR2_RT',\n",
       " 'HI_INC_WDRAW_ORIG_YR2_RT',\n",
       " 'HI_INC_WDRAW_4YR_TRANS_YR2_RT',\n",
       " 'HI_INC_WDRAW_2YR_TRANS_YR2_RT',\n",
       " 'HI_INC_ENRL_ORIG_YR2_RT',\n",
       " 'HI_INC_ENRL_4YR_TRANS_YR2_RT',\n",
       " 'HI_INC_ENRL_2YR_TRANS_YR2_RT',\n",
       " 'HI_INC_UNKN_ORIG_YR2_RT',\n",
       " 'HI_INC_UNKN_4YR_TRANS_YR2_RT',\n",
       " 'HI_INC_UNKN_2YR_TRANS_YR2_RT',\n",
       " 'DEP_DEATH_YR2_RT',\n",
       " 'DEP_COMP_ORIG_YR2_RT',\n",
       " 'DEP_COMP_4YR_TRANS_YR2_RT',\n",
       " 'DEP_COMP_2YR_TRANS_YR2_RT',\n",
       " 'DEP_WDRAW_ORIG_YR2_RT',\n",
       " 'DEP_WDRAW_4YR_TRANS_YR2_RT',\n",
       " 'DEP_WDRAW_2YR_TRANS_YR2_RT',\n",
       " 'DEP_ENRL_ORIG_YR2_RT',\n",
       " 'DEP_ENRL_4YR_TRANS_YR2_RT',\n",
       " 'DEP_ENRL_2YR_TRANS_YR2_RT',\n",
       " 'DEP_UNKN_ORIG_YR2_RT',\n",
       " 'DEP_UNKN_4YR_TRANS_YR2_RT',\n",
       " 'DEP_UNKN_2YR_TRANS_YR2_RT',\n",
       " 'IND_DEATH_YR2_RT',\n",
       " 'IND_COMP_ORIG_YR2_RT',\n",
       " 'IND_COMP_4YR_TRANS_YR2_RT',\n",
       " 'IND_COMP_2YR_TRANS_YR2_RT',\n",
       " 'IND_WDRAW_ORIG_YR2_RT',\n",
       " 'IND_WDRAW_4YR_TRANS_YR2_RT',\n",
       " 'IND_WDRAW_2YR_TRANS_YR2_RT',\n",
       " 'IND_ENRL_ORIG_YR2_RT',\n",
       " 'IND_ENRL_4YR_TRANS_YR2_RT',\n",
       " 'IND_ENRL_2YR_TRANS_YR2_RT',\n",
       " 'IND_UNKN_ORIG_YR2_RT',\n",
       " 'IND_UNKN_4YR_TRANS_YR2_RT',\n",
       " 'IND_UNKN_2YR_TRANS_YR2_RT',\n",
       " 'FEMALE_DEATH_YR2_RT',\n",
       " 'FEMALE_COMP_ORIG_YR2_RT',\n",
       " 'FEMALE_COMP_4YR_TRANS_YR2_RT',\n",
       " 'FEMALE_COMP_2YR_TRANS_YR2_RT',\n",
       " 'FEMALE_WDRAW_ORIG_YR2_RT',\n",
       " 'FEMALE_WDRAW_4YR_TRANS_YR2_RT',\n",
       " 'FEMALE_WDRAW_2YR_TRANS_YR2_RT',\n",
       " 'FEMALE_ENRL_ORIG_YR2_RT',\n",
       " 'FEMALE_ENRL_4YR_TRANS_YR2_RT',\n",
       " 'FEMALE_ENRL_2YR_TRANS_YR2_RT',\n",
       " 'FEMALE_UNKN_ORIG_YR2_RT',\n",
       " 'FEMALE_UNKN_4YR_TRANS_YR2_RT',\n",
       " 'FEMALE_UNKN_2YR_TRANS_YR2_RT',\n",
       " 'MALE_DEATH_YR2_RT',\n",
       " 'MALE_COMP_ORIG_YR2_RT',\n",
       " 'MALE_COMP_4YR_TRANS_YR2_RT',\n",
       " 'MALE_COMP_2YR_TRANS_YR2_RT',\n",
       " 'MALE_WDRAW_ORIG_YR2_RT',\n",
       " 'MALE_WDRAW_4YR_TRANS_YR2_RT',\n",
       " 'MALE_WDRAW_2YR_TRANS_YR2_RT',\n",
       " 'MALE_ENRL_ORIG_YR2_RT',\n",
       " 'MALE_ENRL_4YR_TRANS_YR2_RT',\n",
       " 'MALE_ENRL_2YR_TRANS_YR2_RT',\n",
       " 'MALE_UNKN_ORIG_YR2_RT',\n",
       " 'MALE_UNKN_4YR_TRANS_YR2_RT',\n",
       " 'MALE_UNKN_2YR_TRANS_YR2_RT',\n",
       " 'PELL_DEATH_YR2_RT',\n",
       " 'PELL_COMP_ORIG_YR2_RT',\n",
       " 'PELL_COMP_4YR_TRANS_YR2_RT',\n",
       " 'PELL_COMP_2YR_TRANS_YR2_RT',\n",
       " 'PELL_WDRAW_ORIG_YR2_RT',\n",
       " 'PELL_WDRAW_4YR_TRANS_YR2_RT',\n",
       " 'PELL_WDRAW_2YR_TRANS_YR2_RT',\n",
       " 'PELL_ENRL_ORIG_YR2_RT',\n",
       " 'PELL_ENRL_4YR_TRANS_YR2_RT',\n",
       " 'PELL_ENRL_2YR_TRANS_YR2_RT',\n",
       " 'PELL_UNKN_ORIG_YR2_RT',\n",
       " 'PELL_UNKN_4YR_TRANS_YR2_RT',\n",
       " 'PELL_UNKN_2YR_TRANS_YR2_RT',\n",
       " 'NOPELL_DEATH_YR2_RT',\n",
       " 'NOPELL_COMP_ORIG_YR2_RT',\n",
       " 'NOPELL_COMP_4YR_TRANS_YR2_RT',\n",
       " 'NOPELL_COMP_2YR_TRANS_YR2_RT',\n",
       " 'NOPELL_WDRAW_ORIG_YR2_RT',\n",
       " 'NOPELL_WDRAW_4YR_TRANS_YR2_RT',\n",
       " 'NOPELL_WDRAW_2YR_TRANS_YR2_RT',\n",
       " 'NOPELL_ENRL_ORIG_YR2_RT',\n",
       " 'NOPELL_ENRL_4YR_TRANS_YR2_RT',\n",
       " 'NOPELL_ENRL_2YR_TRANS_YR2_RT',\n",
       " 'NOPELL_UNKN_ORIG_YR2_RT',\n",
       " 'NOPELL_UNKN_4YR_TRANS_YR2_RT',\n",
       " 'NOPELL_UNKN_2YR_TRANS_YR2_RT',\n",
       " 'LOAN_DEATH_YR2_RT',\n",
       " 'LOAN_COMP_ORIG_YR2_RT',\n",
       " 'LOAN_COMP_4YR_TRANS_YR2_RT',\n",
       " 'LOAN_COMP_2YR_TRANS_YR2_RT',\n",
       " 'LOAN_WDRAW_ORIG_YR2_RT',\n",
       " 'LOAN_WDRAW_4YR_TRANS_YR2_RT',\n",
       " 'LOAN_WDRAW_2YR_TRANS_YR2_RT',\n",
       " 'LOAN_ENRL_ORIG_YR2_RT',\n",
       " 'LOAN_ENRL_4YR_TRANS_YR2_RT',\n",
       " 'LOAN_ENRL_2YR_TRANS_YR2_RT',\n",
       " 'LOAN_UNKN_ORIG_YR2_RT',\n",
       " 'LOAN_UNKN_4YR_TRANS_YR2_RT',\n",
       " 'LOAN_UNKN_2YR_TRANS_YR2_RT',\n",
       " 'NOLOAN_DEATH_YR2_RT',\n",
       " 'NOLOAN_COMP_ORIG_YR2_RT',\n",
       " 'NOLOAN_COMP_4YR_TRANS_YR2_RT',\n",
       " 'NOLOAN_COMP_2YR_TRANS_YR2_RT',\n",
       " 'NOLOAN_WDRAW_ORIG_YR2_RT',\n",
       " 'NOLOAN_WDRAW_4YR_TRANS_YR2_RT',\n",
       " 'NOLOAN_WDRAW_2YR_TRANS_YR2_RT',\n",
       " 'NOLOAN_ENRL_ORIG_YR2_RT',\n",
       " 'NOLOAN_ENRL_4YR_TRANS_YR2_RT',\n",
       " 'NOLOAN_ENRL_2YR_TRANS_YR2_RT',\n",
       " 'NOLOAN_UNKN_ORIG_YR2_RT',\n",
       " 'NOLOAN_UNKN_4YR_TRANS_YR2_RT',\n",
       " 'NOLOAN_UNKN_2YR_TRANS_YR2_RT',\n",
       " 'FIRSTGEN_DEATH_YR2_RT',\n",
       " 'FIRSTGEN_COMP_ORIG_YR2_RT',\n",
       " 'FIRSTGEN_COMP_4YR_TRANS_YR2_RT',\n",
       " 'FIRSTGEN_COMP_2YR_TRANS_YR2_RT',\n",
       " 'FIRSTGEN_WDRAW_ORIG_YR2_RT',\n",
       " 'FIRSTGEN_WDRAW_4YR_TRANS_YR2_RT',\n",
       " 'FIRSTGEN_WDRAW_2YR_TRANS_YR2_RT',\n",
       " 'FIRSTGEN_ENRL_ORIG_YR2_RT',\n",
       " 'FIRSTGEN_ENRL_4YR_TRANS_YR2_RT',\n",
       " 'FIRSTGEN_ENRL_2YR_TRANS_YR2_RT',\n",
       " 'FIRSTGEN_UNKN_ORIG_YR2_RT',\n",
       " 'FIRSTGEN_UNKN_4YR_TRANS_YR2_RT',\n",
       " 'FIRSTGEN_UNKN_2YR_TRANS_YR2_RT',\n",
       " 'NOT1STGEN_DEATH_YR2_RT',\n",
       " 'NOT1STGEN_COMP_ORIG_YR2_RT',\n",
       " 'NOT1STGEN_COMP_4YR_TRANS_YR2_RT',\n",
       " 'NOT1STGEN_COMP_2YR_TRANS_YR2_RT',\n",
       " 'NOT1STGEN_WDRAW_ORIG_YR2_RT',\n",
       " 'NOT1STGEN_WDRAW_4YR_TRANS_YR2_RT',\n",
       " 'NOT1STGEN_WDRAW_2YR_TRANS_YR2_RT',\n",
       " 'NOT1STGEN_ENRL_ORIG_YR2_RT',\n",
       " 'NOT1STGEN_ENRL_4YR_TRANS_YR2_RT',\n",
       " 'NOT1STGEN_ENRL_2YR_TRANS_YR2_RT',\n",
       " 'NOT1STGEN_UNKN_ORIG_YR2_RT',\n",
       " 'NOT1STGEN_UNKN_4YR_TRANS_YR2_RT',\n",
       " 'NOT1STGEN_UNKN_2YR_TRANS_YR2_RT',\n",
       " 'DEATH_YR3_RT',\n",
       " 'COMP_ORIG_YR3_RT',\n",
       " 'COMP_4YR_TRANS_YR3_RT',\n",
       " 'COMP_2YR_TRANS_YR3_RT',\n",
       " 'WDRAW_ORIG_YR3_RT',\n",
       " 'WDRAW_4YR_TRANS_YR3_RT',\n",
       " 'WDRAW_2YR_TRANS_YR3_RT',\n",
       " 'ENRL_ORIG_YR3_RT',\n",
       " 'ENRL_4YR_TRANS_YR3_RT',\n",
       " 'ENRL_2YR_TRANS_YR3_RT',\n",
       " 'UNKN_ORIG_YR3_RT',\n",
       " 'UNKN_4YR_TRANS_YR3_RT',\n",
       " 'UNKN_2YR_TRANS_YR3_RT',\n",
       " 'LO_INC_DEATH_YR3_RT',\n",
       " 'LO_INC_COMP_ORIG_YR3_RT',\n",
       " 'LO_INC_COMP_4YR_TRANS_YR3_RT',\n",
       " 'LO_INC_COMP_2YR_TRANS_YR3_RT',\n",
       " 'LO_INC_WDRAW_ORIG_YR3_RT',\n",
       " 'LO_INC_WDRAW_4YR_TRANS_YR3_RT',\n",
       " 'LO_INC_WDRAW_2YR_TRANS_YR3_RT',\n",
       " 'LO_INC_ENRL_ORIG_YR3_RT',\n",
       " 'LO_INC_ENRL_4YR_TRANS_YR3_RT',\n",
       " 'LO_INC_ENRL_2YR_TRANS_YR3_RT',\n",
       " 'LO_INC_UNKN_ORIG_YR3_RT',\n",
       " 'LO_INC_UNKN_4YR_TRANS_YR3_RT',\n",
       " 'LO_INC_UNKN_2YR_TRANS_YR3_RT',\n",
       " 'MD_INC_DEATH_YR3_RT',\n",
       " 'MD_INC_COMP_ORIG_YR3_RT',\n",
       " 'MD_INC_COMP_4YR_TRANS_YR3_RT',\n",
       " 'MD_INC_COMP_2YR_TRANS_YR3_RT',\n",
       " 'MD_INC_WDRAW_ORIG_YR3_RT',\n",
       " 'MD_INC_WDRAW_4YR_TRANS_YR3_RT',\n",
       " 'MD_INC_WDRAW_2YR_TRANS_YR3_RT',\n",
       " 'MD_INC_ENRL_ORIG_YR3_RT',\n",
       " 'MD_INC_ENRL_4YR_TRANS_YR3_RT',\n",
       " 'MD_INC_ENRL_2YR_TRANS_YR3_RT',\n",
       " 'MD_INC_UNKN_ORIG_YR3_RT',\n",
       " 'MD_INC_UNKN_4YR_TRANS_YR3_RT',\n",
       " 'MD_INC_UNKN_2YR_TRANS_YR3_RT',\n",
       " 'HI_INC_DEATH_YR3_RT',\n",
       " 'HI_INC_COMP_ORIG_YR3_RT',\n",
       " 'HI_INC_COMP_4YR_TRANS_YR3_RT',\n",
       " 'HI_INC_COMP_2YR_TRANS_YR3_RT',\n",
       " 'HI_INC_WDRAW_ORIG_YR3_RT',\n",
       " 'HI_INC_WDRAW_4YR_TRANS_YR3_RT',\n",
       " 'HI_INC_WDRAW_2YR_TRANS_YR3_RT',\n",
       " 'HI_INC_ENRL_ORIG_YR3_RT',\n",
       " 'HI_INC_ENRL_4YR_TRANS_YR3_RT',\n",
       " 'HI_INC_ENRL_2YR_TRANS_YR3_RT',\n",
       " 'HI_INC_UNKN_ORIG_YR3_RT',\n",
       " 'HI_INC_UNKN_4YR_TRANS_YR3_RT',\n",
       " 'HI_INC_UNKN_2YR_TRANS_YR3_RT',\n",
       " 'DEP_DEATH_YR3_RT',\n",
       " 'DEP_COMP_ORIG_YR3_RT',\n",
       " 'DEP_COMP_4YR_TRANS_YR3_RT',\n",
       " 'DEP_COMP_2YR_TRANS_YR3_RT',\n",
       " 'DEP_WDRAW_ORIG_YR3_RT',\n",
       " 'DEP_WDRAW_4YR_TRANS_YR3_RT',\n",
       " 'DEP_WDRAW_2YR_TRANS_YR3_RT',\n",
       " 'DEP_ENRL_ORIG_YR3_RT',\n",
       " 'DEP_ENRL_4YR_TRANS_YR3_RT',\n",
       " 'DEP_ENRL_2YR_TRANS_YR3_RT',\n",
       " 'DEP_UNKN_ORIG_YR3_RT',\n",
       " 'DEP_UNKN_4YR_TRANS_YR3_RT',\n",
       " 'DEP_UNKN_2YR_TRANS_YR3_RT',\n",
       " 'IND_DEATH_YR3_RT',\n",
       " 'IND_COMP_ORIG_YR3_RT',\n",
       " 'IND_COMP_4YR_TRANS_YR3_RT',\n",
       " 'IND_COMP_2YR_TRANS_YR3_RT',\n",
       " 'IND_WDRAW_ORIG_YR3_RT',\n",
       " 'IND_WDRAW_4YR_TRANS_YR3_RT',\n",
       " 'IND_WDRAW_2YR_TRANS_YR3_RT',\n",
       " 'IND_ENRL_ORIG_YR3_RT',\n",
       " 'IND_ENRL_4YR_TRANS_YR3_RT',\n",
       " 'IND_ENRL_2YR_TRANS_YR3_RT',\n",
       " 'IND_UNKN_ORIG_YR3_RT',\n",
       " 'IND_UNKN_4YR_TRANS_YR3_RT',\n",
       " 'IND_UNKN_2YR_TRANS_YR3_RT',\n",
       " 'FEMALE_DEATH_YR3_RT',\n",
       " 'FEMALE_COMP_ORIG_YR3_RT',\n",
       " 'FEMALE_COMP_4YR_TRANS_YR3_RT',\n",
       " 'FEMALE_COMP_2YR_TRANS_YR3_RT',\n",
       " 'FEMALE_WDRAW_ORIG_YR3_RT',\n",
       " 'FEMALE_WDRAW_4YR_TRANS_YR3_RT',\n",
       " 'FEMALE_WDRAW_2YR_TRANS_YR3_RT',\n",
       " 'FEMALE_ENRL_ORIG_YR3_RT',\n",
       " 'FEMALE_ENRL_4YR_TRANS_YR3_RT',\n",
       " 'FEMALE_ENRL_2YR_TRANS_YR3_RT',\n",
       " 'FEMALE_UNKN_ORIG_YR3_RT',\n",
       " 'FEMALE_UNKN_4YR_TRANS_YR3_RT',\n",
       " 'FEMALE_UNKN_2YR_TRANS_YR3_RT',\n",
       " 'MALE_DEATH_YR3_RT',\n",
       " 'MALE_COMP_ORIG_YR3_RT',\n",
       " 'MALE_COMP_4YR_TRANS_YR3_RT',\n",
       " 'MALE_COMP_2YR_TRANS_YR3_RT',\n",
       " 'MALE_WDRAW_ORIG_YR3_RT',\n",
       " 'MALE_WDRAW_4YR_TRANS_YR3_RT',\n",
       " 'MALE_WDRAW_2YR_TRANS_YR3_RT',\n",
       " 'MALE_ENRL_ORIG_YR3_RT',\n",
       " 'MALE_ENRL_4YR_TRANS_YR3_RT',\n",
       " 'MALE_ENRL_2YR_TRANS_YR3_RT',\n",
       " 'MALE_UNKN_ORIG_YR3_RT',\n",
       " 'MALE_UNKN_4YR_TRANS_YR3_RT',\n",
       " 'MALE_UNKN_2YR_TRANS_YR3_RT',\n",
       " 'PELL_DEATH_YR3_RT',\n",
       " 'PELL_COMP_ORIG_YR3_RT',\n",
       " 'PELL_COMP_4YR_TRANS_YR3_RT',\n",
       " 'PELL_COMP_2YR_TRANS_YR3_RT',\n",
       " 'PELL_WDRAW_ORIG_YR3_RT',\n",
       " 'PELL_WDRAW_4YR_TRANS_YR3_RT',\n",
       " 'PELL_WDRAW_2YR_TRANS_YR3_RT',\n",
       " 'PELL_ENRL_ORIG_YR3_RT',\n",
       " 'PELL_ENRL_4YR_TRANS_YR3_RT',\n",
       " 'PELL_ENRL_2YR_TRANS_YR3_RT',\n",
       " 'PELL_UNKN_ORIG_YR3_RT',\n",
       " 'PELL_UNKN_4YR_TRANS_YR3_RT',\n",
       " 'PELL_UNKN_2YR_TRANS_YR3_RT',\n",
       " 'NOPELL_DEATH_YR3_RT',\n",
       " 'NOPELL_COMP_ORIG_YR3_RT',\n",
       " 'NOPELL_COMP_4YR_TRANS_YR3_RT',\n",
       " 'NOPELL_COMP_2YR_TRANS_YR3_RT',\n",
       " 'NOPELL_WDRAW_ORIG_YR3_RT',\n",
       " 'NOPELL_WDRAW_4YR_TRANS_YR3_RT',\n",
       " 'NOPELL_WDRAW_2YR_TRANS_YR3_RT',\n",
       " 'NOPELL_ENRL_ORIG_YR3_RT',\n",
       " 'NOPELL_ENRL_4YR_TRANS_YR3_RT',\n",
       " 'NOPELL_ENRL_2YR_TRANS_YR3_RT',\n",
       " 'NOPELL_UNKN_ORIG_YR3_RT',\n",
       " 'NOPELL_UNKN_4YR_TRANS_YR3_RT',\n",
       " 'NOPELL_UNKN_2YR_TRANS_YR3_RT',\n",
       " 'LOAN_DEATH_YR3_RT',\n",
       " 'LOAN_COMP_ORIG_YR3_RT',\n",
       " 'LOAN_COMP_4YR_TRANS_YR3_RT',\n",
       " 'LOAN_COMP_2YR_TRANS_YR3_RT',\n",
       " 'LOAN_WDRAW_ORIG_YR3_RT',\n",
       " 'LOAN_WDRAW_4YR_TRANS_YR3_RT',\n",
       " 'LOAN_WDRAW_2YR_TRANS_YR3_RT',\n",
       " 'LOAN_ENRL_ORIG_YR3_RT',\n",
       " 'LOAN_ENRL_4YR_TRANS_YR3_RT',\n",
       " 'LOAN_ENRL_2YR_TRANS_YR3_RT',\n",
       " 'LOAN_UNKN_ORIG_YR3_RT',\n",
       " 'LOAN_UNKN_4YR_TRANS_YR3_RT',\n",
       " 'LOAN_UNKN_2YR_TRANS_YR3_RT',\n",
       " 'NOLOAN_DEATH_YR3_RT',\n",
       " 'NOLOAN_COMP_ORIG_YR3_RT',\n",
       " 'NOLOAN_COMP_4YR_TRANS_YR3_RT',\n",
       " 'NOLOAN_COMP_2YR_TRANS_YR3_RT',\n",
       " 'NOLOAN_WDRAW_ORIG_YR3_RT',\n",
       " 'NOLOAN_WDRAW_4YR_TRANS_YR3_RT',\n",
       " 'NOLOAN_WDRAW_2YR_TRANS_YR3_RT',\n",
       " 'NOLOAN_ENRL_ORIG_YR3_RT',\n",
       " 'NOLOAN_ENRL_4YR_TRANS_YR3_RT',\n",
       " 'NOLOAN_ENRL_2YR_TRANS_YR3_RT',\n",
       " 'NOLOAN_UNKN_ORIG_YR3_RT',\n",
       " 'NOLOAN_UNKN_4YR_TRANS_YR3_RT',\n",
       " 'NOLOAN_UNKN_2YR_TRANS_YR3_RT',\n",
       " 'FIRSTGEN_DEATH_YR3_RT',\n",
       " 'FIRSTGEN_COMP_ORIG_YR3_RT',\n",
       " 'FIRSTGEN_COMP_4YR_TRANS_YR3_RT',\n",
       " 'FIRSTGEN_COMP_2YR_TRANS_YR3_RT',\n",
       " 'FIRSTGEN_WDRAW_ORIG_YR3_RT',\n",
       " 'FIRSTGEN_WDRAW_4YR_TRANS_YR3_RT',\n",
       " 'FIRSTGEN_WDRAW_2YR_TRANS_YR3_RT',\n",
       " 'FIRSTGEN_ENRL_ORIG_YR3_RT',\n",
       " 'FIRSTGEN_ENRL_4YR_TRANS_YR3_RT',\n",
       " 'FIRSTGEN_ENRL_2YR_TRANS_YR3_RT',\n",
       " 'FIRSTGEN_UNKN_ORIG_YR3_RT',\n",
       " 'FIRSTGEN_UNKN_4YR_TRANS_YR3_RT',\n",
       " 'FIRSTGEN_UNKN_2YR_TRANS_YR3_RT',\n",
       " 'NOT1STGEN_DEATH_YR3_RT',\n",
       " 'NOT1STGEN_COMP_ORIG_YR3_RT',\n",
       " 'NOT1STGEN_COMP_4YR_TRANS_YR3_RT',\n",
       " 'NOT1STGEN_COMP_2YR_TRANS_YR3_RT',\n",
       " 'NOT1STGEN_WDRAW_ORIG_YR3_RT',\n",
       " 'NOT1STGEN_WDRAW_4YR_TRANS_YR3_RT',\n",
       " 'NOT1STGEN_WDRAW_2YR_TRANS_YR3_RT',\n",
       " 'NOT1STGEN_ENRL_ORIG_YR3_RT',\n",
       " 'NOT1STGEN_ENRL_4YR_TRANS_YR3_RT',\n",
       " 'NOT1STGEN_ENRL_2YR_TRANS_YR3_RT',\n",
       " 'NOT1STGEN_UNKN_ORIG_YR3_RT',\n",
       " 'NOT1STGEN_UNKN_4YR_TRANS_YR3_RT',\n",
       " 'NOT1STGEN_UNKN_2YR_TRANS_YR3_RT',\n",
       " 'DEATH_YR4_RT',\n",
       " 'COMP_ORIG_YR4_RT',\n",
       " 'COMP_4YR_TRANS_YR4_RT',\n",
       " 'COMP_2YR_TRANS_YR4_RT',\n",
       " 'WDRAW_ORIG_YR4_RT',\n",
       " 'WDRAW_4YR_TRANS_YR4_RT',\n",
       " 'WDRAW_2YR_TRANS_YR4_RT',\n",
       " 'ENRL_ORIG_YR4_RT',\n",
       " 'ENRL_4YR_TRANS_YR4_RT',\n",
       " 'ENRL_2YR_TRANS_YR4_RT',\n",
       " 'UNKN_ORIG_YR4_RT',\n",
       " 'UNKN_4YR_TRANS_YR4_RT',\n",
       " 'UNKN_2YR_TRANS_YR4_RT',\n",
       " 'LO_INC_DEATH_YR4_RT',\n",
       " 'LO_INC_COMP_ORIG_YR4_RT',\n",
       " 'LO_INC_COMP_4YR_TRANS_YR4_RT',\n",
       " 'LO_INC_COMP_2YR_TRANS_YR4_RT',\n",
       " 'LO_INC_WDRAW_ORIG_YR4_RT',\n",
       " 'LO_INC_WDRAW_4YR_TRANS_YR4_RT',\n",
       " 'LO_INC_WDRAW_2YR_TRANS_YR4_RT',\n",
       " 'LO_INC_ENRL_ORIG_YR4_RT',\n",
       " 'LO_INC_ENRL_4YR_TRANS_YR4_RT',\n",
       " 'LO_INC_ENRL_2YR_TRANS_YR4_RT',\n",
       " 'LO_INC_UNKN_ORIG_YR4_RT',\n",
       " 'LO_INC_UNKN_4YR_TRANS_YR4_RT',\n",
       " 'LO_INC_UNKN_2YR_TRANS_YR4_RT',\n",
       " 'MD_INC_DEATH_YR4_RT',\n",
       " 'MD_INC_COMP_ORIG_YR4_RT',\n",
       " 'MD_INC_COMP_4YR_TRANS_YR4_RT',\n",
       " 'MD_INC_COMP_2YR_TRANS_YR4_RT',\n",
       " 'MD_INC_WDRAW_ORIG_YR4_RT',\n",
       " 'MD_INC_WDRAW_4YR_TRANS_YR4_RT',\n",
       " 'MD_INC_WDRAW_2YR_TRANS_YR4_RT',\n",
       " 'MD_INC_ENRL_ORIG_YR4_RT',\n",
       " 'MD_INC_ENRL_4YR_TRANS_YR4_RT',\n",
       " 'MD_INC_ENRL_2YR_TRANS_YR4_RT',\n",
       " 'MD_INC_UNKN_ORIG_YR4_RT',\n",
       " 'MD_INC_UNKN_4YR_TRANS_YR4_RT',\n",
       " 'MD_INC_UNKN_2YR_TRANS_YR4_RT',\n",
       " 'HI_INC_DEATH_YR4_RT',\n",
       " 'HI_INC_COMP_ORIG_YR4_RT',\n",
       " 'HI_INC_COMP_4YR_TRANS_YR4_RT',\n",
       " 'HI_INC_COMP_2YR_TRANS_YR4_RT',\n",
       " 'HI_INC_WDRAW_ORIG_YR4_RT',\n",
       " 'HI_INC_WDRAW_4YR_TRANS_YR4_RT',\n",
       " 'HI_INC_WDRAW_2YR_TRANS_YR4_RT',\n",
       " 'HI_INC_ENRL_ORIG_YR4_RT',\n",
       " 'HI_INC_ENRL_4YR_TRANS_YR4_RT',\n",
       " 'HI_INC_ENRL_2YR_TRANS_YR4_RT',\n",
       " 'HI_INC_UNKN_ORIG_YR4_RT',\n",
       " 'HI_INC_UNKN_4YR_TRANS_YR4_RT',\n",
       " 'HI_INC_UNKN_2YR_TRANS_YR4_RT',\n",
       " 'DEP_DEATH_YR4_RT',\n",
       " 'DEP_COMP_ORIG_YR4_RT',\n",
       " 'DEP_COMP_4YR_TRANS_YR4_RT',\n",
       " 'DEP_COMP_2YR_TRANS_YR4_RT',\n",
       " 'DEP_WDRAW_ORIG_YR4_RT',\n",
       " 'DEP_WDRAW_4YR_TRANS_YR4_RT',\n",
       " 'DEP_WDRAW_2YR_TRANS_YR4_RT',\n",
       " 'DEP_ENRL_ORIG_YR4_RT',\n",
       " 'DEP_ENRL_4YR_TRANS_YR4_RT',\n",
       " 'DEP_ENRL_2YR_TRANS_YR4_RT',\n",
       " 'DEP_UNKN_ORIG_YR4_RT',\n",
       " 'DEP_UNKN_4YR_TRANS_YR4_RT',\n",
       " 'DEP_UNKN_2YR_TRANS_YR4_RT',\n",
       " 'IND_DEATH_YR4_RT',\n",
       " 'IND_COMP_ORIG_YR4_RT',\n",
       " 'IND_COMP_4YR_TRANS_YR4_RT',\n",
       " 'IND_COMP_2YR_TRANS_YR4_RT',\n",
       " 'IND_WDRAW_ORIG_YR4_RT',\n",
       " 'IND_WDRAW_4YR_TRANS_YR4_RT',\n",
       " 'IND_WDRAW_2YR_TRANS_YR4_RT',\n",
       " 'IND_ENRL_ORIG_YR4_RT',\n",
       " 'IND_ENRL_4YR_TRANS_YR4_RT',\n",
       " 'IND_ENRL_2YR_TRANS_YR4_RT',\n",
       " 'IND_UNKN_ORIG_YR4_RT',\n",
       " 'IND_UNKN_4YR_TRANS_YR4_RT',\n",
       " 'IND_UNKN_2YR_TRANS_YR4_RT',\n",
       " 'FEMALE_DEATH_YR4_RT',\n",
       " 'FEMALE_COMP_ORIG_YR4_RT',\n",
       " 'FEMALE_COMP_4YR_TRANS_YR4_RT',\n",
       " 'FEMALE_COMP_2YR_TRANS_YR4_RT',\n",
       " 'FEMALE_WDRAW_ORIG_YR4_RT',\n",
       " 'FEMALE_WDRAW_4YR_TRANS_YR4_RT',\n",
       " 'FEMALE_WDRAW_2YR_TRANS_YR4_RT',\n",
       " 'FEMALE_ENRL_ORIG_YR4_RT',\n",
       " 'FEMALE_ENRL_4YR_TRANS_YR4_RT',\n",
       " 'FEMALE_ENRL_2YR_TRANS_YR4_RT',\n",
       " 'FEMALE_UNKN_ORIG_YR4_RT',\n",
       " 'FEMALE_UNKN_4YR_TRANS_YR4_RT',\n",
       " 'FEMALE_UNKN_2YR_TRANS_YR4_RT',\n",
       " 'MALE_DEATH_YR4_RT',\n",
       " 'MALE_COMP_ORIG_YR4_RT',\n",
       " 'MALE_COMP_4YR_TRANS_YR4_RT',\n",
       " 'MALE_COMP_2YR_TRANS_YR4_RT',\n",
       " 'MALE_WDRAW_ORIG_YR4_RT',\n",
       " 'MALE_WDRAW_4YR_TRANS_YR4_RT',\n",
       " 'MALE_WDRAW_2YR_TRANS_YR4_RT',\n",
       " 'MALE_ENRL_ORIG_YR4_RT',\n",
       " 'MALE_ENRL_4YR_TRANS_YR4_RT',\n",
       " 'MALE_ENRL_2YR_TRANS_YR4_RT',\n",
       " 'MALE_UNKN_ORIG_YR4_RT',\n",
       " 'MALE_UNKN_4YR_TRANS_YR4_RT',\n",
       " 'MALE_UNKN_2YR_TRANS_YR4_RT',\n",
       " 'PELL_DEATH_YR4_RT',\n",
       " 'PELL_COMP_ORIG_YR4_RT',\n",
       " 'PELL_COMP_4YR_TRANS_YR4_RT',\n",
       " 'PELL_COMP_2YR_TRANS_YR4_RT',\n",
       " 'PELL_WDRAW_ORIG_YR4_RT',\n",
       " 'PELL_WDRAW_4YR_TRANS_YR4_RT',\n",
       " 'PELL_WDRAW_2YR_TRANS_YR4_RT',\n",
       " 'PELL_ENRL_ORIG_YR4_RT',\n",
       " 'PELL_ENRL_4YR_TRANS_YR4_RT',\n",
       " 'PELL_ENRL_2YR_TRANS_YR4_RT',\n",
       " 'PELL_UNKN_ORIG_YR4_RT',\n",
       " 'PELL_UNKN_4YR_TRANS_YR4_RT',\n",
       " 'PELL_UNKN_2YR_TRANS_YR4_RT',\n",
       " 'NOPELL_DEATH_YR4_RT',\n",
       " 'NOPELL_COMP_ORIG_YR4_RT',\n",
       " 'NOPELL_COMP_4YR_TRANS_YR4_RT',\n",
       " 'NOPELL_COMP_2YR_TRANS_YR4_RT',\n",
       " 'NOPELL_WDRAW_ORIG_YR4_RT',\n",
       " 'NOPELL_WDRAW_4YR_TRANS_YR4_RT',\n",
       " 'NOPELL_WDRAW_2YR_TRANS_YR4_RT',\n",
       " 'NOPELL_ENRL_ORIG_YR4_RT',\n",
       " 'NOPELL_ENRL_4YR_TRANS_YR4_RT',\n",
       " 'NOPELL_ENRL_2YR_TRANS_YR4_RT',\n",
       " 'NOPELL_UNKN_ORIG_YR4_RT',\n",
       " 'NOPELL_UNKN_4YR_TRANS_YR4_RT',\n",
       " 'NOPELL_UNKN_2YR_TRANS_YR4_RT',\n",
       " 'LOAN_DEATH_YR4_RT',\n",
       " 'LOAN_COMP_ORIG_YR4_RT',\n",
       " 'LOAN_COMP_4YR_TRANS_YR4_RT',\n",
       " 'LOAN_COMP_2YR_TRANS_YR4_RT',\n",
       " 'LOAN_WDRAW_ORIG_YR4_RT',\n",
       " 'LOAN_WDRAW_4YR_TRANS_YR4_RT',\n",
       " 'LOAN_WDRAW_2YR_TRANS_YR4_RT',\n",
       " 'LOAN_ENRL_ORIG_YR4_RT',\n",
       " 'LOAN_ENRL_4YR_TRANS_YR4_RT',\n",
       " 'LOAN_ENRL_2YR_TRANS_YR4_RT',\n",
       " 'LOAN_UNKN_ORIG_YR4_RT',\n",
       " 'LOAN_UNKN_4YR_TRANS_YR4_RT',\n",
       " 'LOAN_UNKN_2YR_TRANS_YR4_RT',\n",
       " 'NOLOAN_DEATH_YR4_RT',\n",
       " 'NOLOAN_COMP_ORIG_YR4_RT',\n",
       " 'NOLOAN_COMP_4YR_TRANS_YR4_RT',\n",
       " 'NOLOAN_COMP_2YR_TRANS_YR4_RT',\n",
       " 'NOLOAN_WDRAW_ORIG_YR4_RT',\n",
       " 'NOLOAN_WDRAW_4YR_TRANS_YR4_RT',\n",
       " 'NOLOAN_WDRAW_2YR_TRANS_YR4_RT',\n",
       " 'NOLOAN_ENRL_ORIG_YR4_RT',\n",
       " 'NOLOAN_ENRL_4YR_TRANS_YR4_RT',\n",
       " 'NOLOAN_ENRL_2YR_TRANS_YR4_RT',\n",
       " 'NOLOAN_UNKN_ORIG_YR4_RT',\n",
       " 'NOLOAN_UNKN_4YR_TRANS_YR4_RT',\n",
       " 'NOLOAN_UNKN_2YR_TRANS_YR4_RT',\n",
       " 'FIRSTGEN_DEATH_YR4_RT',\n",
       " 'FIRSTGEN_COMP_ORIG_YR4_RT',\n",
       " 'FIRSTGEN_COMP_4YR_TRANS_YR4_RT',\n",
       " 'FIRSTGEN_COMP_2YR_TRANS_YR4_RT',\n",
       " 'FIRSTGEN_WDRAW_ORIG_YR4_RT',\n",
       " 'FIRSTGEN_WDRAW_4YR_TRANS_YR4_RT',\n",
       " 'FIRSTGEN_WDRAW_2YR_TRANS_YR4_RT',\n",
       " 'FIRSTGEN_ENRL_ORIG_YR4_RT',\n",
       " 'FIRSTGEN_ENRL_4YR_TRANS_YR4_RT',\n",
       " 'FIRSTGEN_ENRL_2YR_TRANS_YR4_RT',\n",
       " 'FIRSTGEN_UNKN_ORIG_YR4_RT',\n",
       " 'FIRSTGEN_UNKN_4YR_TRANS_YR4_RT',\n",
       " 'FIRSTGEN_UNKN_2YR_TRANS_YR4_RT',\n",
       " 'NOT1STGEN_DEATH_YR4_RT',\n",
       " 'NOT1STGEN_COMP_ORIG_YR4_RT',\n",
       " 'NOT1STGEN_COMP_4YR_TRANS_YR4_RT',\n",
       " 'NOT1STGEN_COMP_2YR_TRANS_YR4_RT',\n",
       " 'NOT1STGEN_WDRAW_ORIG_YR4_RT',\n",
       " 'NOT1STGEN_WDRAW_4YR_TRANS_YR4_RT',\n",
       " 'NOT1STGEN_WDRAW_2YR_TRANS_YR4_RT',\n",
       " 'NOT1STGEN_ENRL_ORIG_YR4_RT',\n",
       " 'NOT1STGEN_ENRL_4YR_TRANS_YR4_RT',\n",
       " 'NOT1STGEN_ENRL_2YR_TRANS_YR4_RT',\n",
       " 'NOT1STGEN_UNKN_ORIG_YR4_RT',\n",
       " 'NOT1STGEN_UNKN_4YR_TRANS_YR4_RT',\n",
       " 'NOT1STGEN_UNKN_2YR_TRANS_YR4_RT',\n",
       " 'DEATH_YR6_RT',\n",
       " 'COMP_ORIG_YR6_RT',\n",
       " 'COMP_4YR_TRANS_YR6_RT',\n",
       " 'COMP_2YR_TRANS_YR6_RT',\n",
       " 'WDRAW_ORIG_YR6_RT',\n",
       " 'WDRAW_4YR_TRANS_YR6_RT',\n",
       " 'WDRAW_2YR_TRANS_YR6_RT',\n",
       " 'ENRL_ORIG_YR6_RT',\n",
       " 'ENRL_4YR_TRANS_YR6_RT',\n",
       " 'ENRL_2YR_TRANS_YR6_RT',\n",
       " 'UNKN_ORIG_YR6_RT',\n",
       " 'UNKN_4YR_TRANS_YR6_RT',\n",
       " 'UNKN_2YR_TRANS_YR6_RT',\n",
       " ...]"
      ]
     },
     "execution_count": 11,
     "metadata": {},
     "output_type": "execute_result"
    }
   ],
   "source": [
    "complete_variable_name_list = df.columns.to_list()\n",
    "complete_variable_name_list"
   ]
  },
  {
   "cell_type": "code",
   "execution_count": 12,
   "metadata": {},
   "outputs": [
    {
     "data": {
      "text/plain": [
       "['PCIP01',\n",
       " 'PCIP04',\n",
       " 'PCIP05',\n",
       " 'PCIP26',\n",
       " 'PCIP52',\n",
       " 'PCIP09',\n",
       " 'PCIP10',\n",
       " 'PCIP11',\n",
       " 'PCIP46',\n",
       " 'PCIP13',\n",
       " 'PCIP15',\n",
       " 'PCIP14',\n",
       " 'PCIP23',\n",
       " 'PCIP19',\n",
       " 'PCIP16',\n",
       " 'PCIP51',\n",
       " 'PCIP54',\n",
       " 'PCIP43',\n",
       " 'PCIP22',\n",
       " 'PCIP24',\n",
       " 'PCIP25',\n",
       " 'PCIP27',\n",
       " 'PCIP47',\n",
       " 'PCIP29',\n",
       " 'PCIP30',\n",
       " 'PCIP03',\n",
       " 'PCIP31',\n",
       " 'PCIP12',\n",
       " 'PCIP38',\n",
       " 'PCIP40',\n",
       " 'PCIP48',\n",
       " 'PCIP42',\n",
       " 'PCIP44',\n",
       " 'PCIP41',\n",
       " 'PCIP45',\n",
       " 'PCIP39',\n",
       " 'PCIP49',\n",
       " 'PCIP50',\n",
       " 'ADM_RATE',\n",
       " 'ADM_RATE_ALL',\n",
       " 'SAT_AVG',\n",
       " 'SAT_AVG_ALL',\n",
       " 'SATVRMID',\n",
       " 'SATMTMID',\n",
       " 'SATWRMID',\n",
       " 'ACTCMMID',\n",
       " 'ACTENMID',\n",
       " 'ACTMTMID',\n",
       " 'ACTWRMID',\n",
       " 'CUML_DEBT_P10',\n",
       " 'CUML_DEBT_P25',\n",
       " 'CUML_DEBT_P75',\n",
       " 'CUML_DEBT_P90',\n",
       " 'GRAD_DEBT_MDN10YR',\n",
       " 'CUML_DEBT_N',\n",
       " 'PCTFLOAN',\n",
       " 'LOAN_EVER',\n",
       " 'DEP_DEBT_MDN',\n",
       " 'FEMALE_DEBT_MDN',\n",
       " 'FIRSTGEN_DEBT_MDN',\n",
       " 'IND_DEBT_MDN',\n",
       " 'MALE_DEBT_MDN',\n",
       " 'NOPELL_DEBT_MDN',\n",
       " 'NOTFIRSTGEN_DEBT_MDN',\n",
       " 'PELL_DEBT_MDN',\n",
       " 'GRAD_DEBT_MDN',\n",
       " 'WDRAW_DEBT_MDN',\n",
       " 'HI_INC_DEBT_MDN',\n",
       " 'LO_INC_DEBT_MDN',\n",
       " 'MD_INC_DEBT_MDN',\n",
       " 'DEBT_MDN',\n",
       " 'DEBT_N',\n",
       " 'GRAD_DEBT_N',\n",
       " 'DEP_DEBT_N',\n",
       " 'FEMALE_DEBT_N',\n",
       " 'FIRSTGEN_DEBT_N',\n",
       " 'HI_INC_DEBT_N',\n",
       " 'IND_DEBT_N',\n",
       " 'LO_INC_DEBT_N',\n",
       " 'MALE_DEBT_N',\n",
       " 'MD_INC_DEBT_N',\n",
       " 'NOPELL_DEBT_N',\n",
       " 'NOTFIRSTGEN_DEBT_N',\n",
       " 'PELL_DEBT_N',\n",
       " 'WDRAW_DEBT_N',\n",
       " 'C150_4',\n",
       " 'C150_4_POOLED',\n",
       " 'DEP_COMP_ORIG_YR6_RT',\n",
       " 'WDRAW_ORIG_YR2_RT',\n",
       " 'COSTT4_A',\n",
       " 'COSTT4_P',\n",
       " 'NPT4_PROG',\n",
       " 'NPT4_OTHER',\n",
       " 'NPT4_PRIV',\n",
       " 'NPT4_PUB',\n",
       " 'TUITIONFEE_IN',\n",
       " 'TUITIONFEE_OUT',\n",
       " 'TUITIONFEE_PROG',\n",
       " 'CIPTFBS1',\n",
       " 'MN_EARN_WNE_INDEP0_P10',\n",
       " 'MN_EARN_WNE_INDEP0_P6',\n",
       " 'MN_EARN_WNE_MALE0_P10',\n",
       " 'MN_EARN_WNE_MALE0_P6',\n",
       " 'MN_EARN_WNE_INDEP1_P10',\n",
       " 'MN_EARN_WNE_INDEP1_P6',\n",
       " 'MN_EARN_WNE_MALE1_P10',\n",
       " 'MN_EARN_WNE_MALE1_P6',\n",
       " 'MN_EARN_WNE_P10',\n",
       " 'MN_EARN_WNE_P6',\n",
       " 'MN_EARN_WNE_P7',\n",
       " 'MN_EARN_WNE_P8',\n",
       " 'MN_EARN_WNE_P9',\n",
       " 'MD_EARN_WNE_P10',\n",
       " 'MD_EARN_WNE_P6',\n",
       " 'MD_EARN_WNE_P8',\n",
       " 'OPEID6',\n",
       " 'OPEID',\n",
       " 'LATITUDE',\n",
       " 'LONGITUDE',\n",
       " 'UNITID',\n",
       " 'AVGFACSAL',\n",
       " 'CITY',\n",
       " 'CONTROL',\n",
       " 'SCHTYPE',\n",
       " 'LOCALE2',\n",
       " 'ST_FIPS',\n",
       " 'MAIN',\n",
       " 'MENONLY',\n",
       " 'WOMENONLY',\n",
       " 'INSTNM',\n",
       " 'INEXPFTE',\n",
       " 'ICLEVEL',\n",
       " 'LOCALE',\n",
       " 'TUITFTE',\n",
       " 'NUMBRANCH',\n",
       " 'PFTFAC',\n",
       " 'REGION',\n",
       " 'STABBR',\n",
       " 'INSTURL',\n",
       " 'ZIP',\n",
       " 'INC_PCT_H2',\n",
       " 'INC_PCT_M1',\n",
       " 'INC_PCT_M2',\n",
       " 'INC_PCT_H1',\n",
       " 'AGE_ENTRY',\n",
       " 'FAMINC_IND',\n",
       " 'FAMINC',\n",
       " 'FSEND_COUNT',\n",
       " 'AGE_ENTRY_SQ',\n",
       " 'LNFAMINC',\n",
       " 'LNFAMINC_IND',\n",
       " 'UG',\n",
       " 'UGDS',\n",
       " 'MD_FAMINC',\n",
       " 'MEDIAN_HH_INC',\n",
       " 'AGEGE24',\n",
       " 'PCT_GRAD_PROF',\n",
       " 'PCT_ASIAN',\n",
       " 'PCT_BLACK',\n",
       " 'PCT_HISPANIC',\n",
       " 'PCT_WHITE',\n",
       " 'PCT_BORN_US',\n",
       " 'PCT_BA',\n",
       " 'UG25ABV',\n",
       " 'POVERTY_RATE',\n",
       " 'DEPENDENT',\n",
       " 'FEMALE',\n",
       " 'FIRST_GEN',\n",
       " 'MARRIED',\n",
       " 'PELL_EVER',\n",
       " 'VETERAN',\n",
       " 'UGDS_AIAN',\n",
       " 'UGDS_AIANOLD',\n",
       " 'UGDS_ASIAN',\n",
       " 'UGDS_API',\n",
       " 'UGDS_BLACK',\n",
       " 'UGDS_BLACKNH',\n",
       " 'UGDS_HISP',\n",
       " 'UGDS_HISPOLD',\n",
       " 'UGDS_NHPI',\n",
       " 'UGDS_NRA',\n",
       " 'UGDS_2MOR',\n",
       " 'UGDS_WHITE',\n",
       " 'UGDS_WHITENH',\n",
       " 'UGDS_UNKN',\n",
       " 'UG_AIANOLD',\n",
       " 'UG_API',\n",
       " 'UG_BLACKNH',\n",
       " 'UG_HISPOLD',\n",
       " 'UG_NRA',\n",
       " 'UG_WHITENH',\n",
       " 'UG_UNKN',\n",
       " 'UNEMP_RATE']"
      ]
     },
     "execution_count": 12,
     "metadata": {},
     "output_type": "execute_result"
    }
   ],
   "source": [
    "filtered_variable_name_list = column_heading_df['VARIABLE NAME'].unique().tolist()\n",
    "filtered_variable_name_list"
   ]
  },
  {
   "cell_type": "code",
   "execution_count": 13,
   "metadata": {},
   "outputs": [
    {
     "data": {
      "text/plain": [
       "0       70000\n",
       "1       84000\n",
       "2       79500\n",
       "3       93300\n",
       "4       55400\n",
       "        ...  \n",
       "6801      NaN\n",
       "6802      NaN\n",
       "6803      NaN\n",
       "6804      NaN\n",
       "6805      NaN\n",
       "Name: PCT90_EARN_WNE_P10, Length: 6806, dtype: object"
      ]
     },
     "execution_count": 13,
     "metadata": {},
     "output_type": "execute_result"
    }
   ],
   "source": [
    "df['PCT90_EARN_WNE_P10']"
   ]
  },
  {
   "cell_type": "code",
   "execution_count": 14,
   "metadata": {},
   "outputs": [],
   "source": [
    "filtered_df = df.copy()\n"
   ]
  },
  {
   "cell_type": "code",
   "execution_count": null,
   "metadata": {},
   "outputs": [],
   "source": [
    "for variable in complete_variable_name_list:\n",
    "    if variable not in filtered_variable_name_list:\n",
    "        filtered_df.drop(columns = variable, inplace = True)"
   ]
  },
  {
   "cell_type": "code",
   "execution_count": null,
   "metadata": {},
   "outputs": [],
   "source": [
    "filtered_df"
   ]
  },
  {
   "cell_type": "code",
   "execution_count": null,
   "metadata": {},
   "outputs": [],
   "source": [
    "filtered_df.columns"
   ]
  },
  {
   "cell_type": "code",
   "execution_count": null,
   "metadata": {},
   "outputs": [],
   "source": [
    "column_heading_df['dev-category'].unique()"
   ]
  },
  {
   "cell_type": "code",
   "execution_count": null,
   "metadata": {},
   "outputs": [],
   "source": [
    "df"
   ]
  },
  {
   "cell_type": "code",
   "execution_count": null,
   "metadata": {},
   "outputs": [],
   "source": [
    "df.loc[df['INSTNM'] == 'Harvard University', ['PREDDEG','NPT4_PRIV', 'TUITIONFEE_IN']]"
   ]
  },
  {
   "cell_type": "code",
   "execution_count": null,
   "metadata": {},
   "outputs": [],
   "source": [
    "df.loc[df['INSTNM'] == 'Ohio State University-Main Campus', ['PREDDEG','NPT4_PRIV', 'TUITIONFEE_IN']]"
   ]
  },
  {
   "cell_type": "code",
   "execution_count": null,
   "metadata": {},
   "outputs": [],
   "source": [
    "df.loc[df['INSTNM'] == 'Dartmouth College', ['PREDDEG','NPT4_PRIV', 'TUITIONFEE_IN']]"
   ]
  },
  {
   "cell_type": "code",
   "execution_count": null,
   "metadata": {},
   "outputs": [],
   "source": [
    "df.loc[df['INSTNM'] == 'Harvey Mudd College', ['PREDDEG','NPT4_PRIV', 'TUITIONFEE_IN']]"
   ]
  },
  {
   "cell_type": "code",
   "execution_count": null,
   "metadata": {},
   "outputs": [],
   "source": [
    "df.columns"
   ]
  },
  {
   "cell_type": "code",
   "execution_count": null,
   "metadata": {},
   "outputs": [],
   "source": [
    "df['PREDDEG']"
   ]
  },
  {
   "cell_type": "code",
   "execution_count": null,
   "metadata": {},
   "outputs": [],
   "source": [
    "df.loc[df['PREDDEG'] == 3, :]"
   ]
  },
  {
   "cell_type": "code",
   "execution_count": null,
   "metadata": {},
   "outputs": [],
   "source": [
    "cost_df = filtered_df.loc[df['PREDDEG'] == 3, ['INSTNM', 'STABBR','TUITIONFEE_IN', 'TUITIONFEE_OUT', 'PCT10_EARN_WNE_P6', 'PCT25_EARN_WNE_P6', 'PCT75_EARN_WNE_P6', 'PCT90_EARN_WNE_P6', 'MN_EARN_WNE_P6']]"
   ]
  },
  {
   "cell_type": "code",
   "execution_count": null,
   "metadata": {},
   "outputs": [],
   "source": [
    "cost_df"
   ]
  },
  {
   "cell_type": "code",
   "execution_count": null,
   "metadata": {},
   "outputs": [],
   "source": [
    "cost_df = cost_df.fillna(0)"
   ]
  },
  {
   "cell_type": "code",
   "execution_count": null,
   "metadata": {},
   "outputs": [],
   "source": [
    "cost_df=cost_df.sort_values(by = 'TUITIONFEE_IN', ascending = False).reset_index()"
   ]
  },
  {
   "cell_type": "code",
   "execution_count": null,
   "metadata": {},
   "outputs": [],
   "source": [
    "cost_df"
   ]
  },
  {
   "cell_type": "code",
   "execution_count": null,
   "metadata": {},
   "outputs": [],
   "source": [
    "cost_df['TUITIONFEE_IN'].astype('int')"
   ]
  },
  {
   "cell_type": "code",
   "execution_count": null,
   "metadata": {},
   "outputs": [],
   "source": [
    "cost_df['product'] = (cost_df['TUITIONFEE_IN'].astype('int')* cost_df['TUITIONFEE_OUT'].astype('int')* cost_df['PCT10_EARN_WNE_P6'].astype('int') * cost_df['PCT25_EARN_WNE_P6'].astype('int') * cost_df['PCT75_EARN_WNE_P6'].astype('int') * cost_df['PCT90_EARN_WNE_P6'].astype('int') * cost_df['MN_EARN_WNE_P6'].astype('int')).astype('bool')"
   ]
  },
  {
   "cell_type": "code",
   "execution_count": null,
   "metadata": {},
   "outputs": [],
   "source": [
    "cost_df['product']"
   ]
  },
  {
   "cell_type": "code",
   "execution_count": null,
   "metadata": {},
   "outputs": [],
   "source": [
    "cost_df = cost_df.loc[cost_df['product'], :]"
   ]
  },
  {
   "cell_type": "code",
   "execution_count": null,
   "metadata": {},
   "outputs": [],
   "source": [
    "cost_df"
   ]
  },
  {
   "cell_type": "code",
   "execution_count": null,
   "metadata": {},
   "outputs": [],
   "source": [
    "cost_df.loc[cost_df['INSTNM'] == 'Ohio State University-Main Campus', :]"
   ]
  },
  {
   "cell_type": "code",
   "execution_count": null,
   "metadata": {},
   "outputs": [],
   "source": [
    "cost_df.loc[cost_df['index'] == 2666, :]"
   ]
  },
  {
   "cell_type": "code",
   "execution_count": null,
   "metadata": {},
   "outputs": [],
   "source": [
    "cost_df.loc[cost_df['INSTNM'] == 'Smith College', :]"
   ]
  },
  {
   "cell_type": "code",
   "execution_count": null,
   "metadata": {},
   "outputs": [],
   "source": [
    "cost_clean_df = cost_df.copy()"
   ]
  },
  {
   "cell_type": "code",
   "execution_count": null,
   "metadata": {},
   "outputs": [],
   "source": [
    "x = cost_clean_df['TUITIONFEE_IN'].to_list()\n",
    "y1 = cost_clean_df['PCT10_EARN_WNE_P6'].astype(int).to_list()\n",
    "y2 = cost_clean_df['PCT25_EARN_WNE_P6'].astype(int).to_list()\n",
    "y3 = cost_clean_df['PCT75_EARN_WNE_P6'].astype(int).to_list()\n",
    "y4 = cost_clean_df['PCT90_EARN_WNE_P6'].astype(int).to_list()\n",
    "y5 = cost_clean_df['MN_EARN_WNE_P6'].astype(int).to_list()"
   ]
  },
  {
   "cell_type": "code",
   "execution_count": null,
   "metadata": {},
   "outputs": [],
   "source": [
    "x_y_df = cost_clean_df[['TUITIONFEE_IN', 'MN_EARN_WNE_P6']]\n"
   ]
  },
  {
   "cell_type": "code",
   "execution_count": null,
   "metadata": {},
   "outputs": [],
   "source": [
    "x_y_df"
   ]
  },
  {
   "cell_type": "code",
   "execution_count": null,
   "metadata": {},
   "outputs": [],
   "source": [
    "#before doing the line fit let us drop all rows with a 0 in either tuition or earnings\n",
    "x_y_filtered_df = x_y_df.loc[(x_y_df['TUITIONFEE_IN'] != 0) & (x_y_df['MN_EARN_WNE_P6'] != 0), :]"
   ]
  },
  {
   "cell_type": "code",
   "execution_count": null,
   "metadata": {},
   "outputs": [],
   "source": [
    "# Generate a box plot of the final tumor volume of each mouse across four regimens of interest\n",
    "fig, (ax1, ax2, ax3, ax4, ax5) = plt.subplots(5,1, sharex = True, figsize=(8,16))\n",
    "ax1.set_title(\"10% income after 6 years\")\n",
    "ax2.set_title(\"25% income after 6 years\")\n",
    "ax3.set_title(\"75% income after 6 years\")\n",
    "ax4.set_title(\"90% income after 6 years\")\n",
    "ax5.set_title(\"mean earning after 6 years\")\n",
    "ax5.set_xlabel(\"Tuition\")\n",
    "ax2.set_ylabel(\"earnings\")\n",
    "ax1.scatter(x,y1, color = 'g')\n",
    "\n",
    "ax2.scatter(x,y2, color = 'r')\n",
    "\n",
    "ax3.scatter(x,y3, color = 'y')\n",
    "\n",
    "ax4.scatter(x,y4, color = 'orange')\n",
    "ax5.scatter(x,y5, color = 'purple')\n",
    "\n",
    "plt.show()"
   ]
  },
  {
   "cell_type": "code",
   "execution_count": null,
   "metadata": {},
   "outputs": [],
   "source": []
  },
  {
   "cell_type": "code",
   "execution_count": null,
   "metadata": {},
   "outputs": [],
   "source": [
    "x_line = np.array(x_y_filtered_df['TUITIONFEE_IN'])"
   ]
  },
  {
   "cell_type": "code",
   "execution_count": null,
   "metadata": {},
   "outputs": [],
   "source": [
    "y_line = np.array(x_y_filtered_df['MN_EARN_WNE_P6'])"
   ]
  },
  {
   "cell_type": "code",
   "execution_count": null,
   "metadata": {},
   "outputs": [],
   "source": [
    "x_line = x_line.reshape(-1,1)"
   ]
  },
  {
   "cell_type": "code",
   "execution_count": null,
   "metadata": {},
   "outputs": [],
   "source": [
    "from sklearn.linear_model import LinearRegression\n",
    "reg = LinearRegression().fit(x_line, y_line)"
   ]
  },
  {
   "cell_type": "code",
   "execution_count": null,
   "metadata": {},
   "outputs": [],
   "source": [
    "fit_r2 = reg.score(x_line, y_line)"
   ]
  },
  {
   "cell_type": "code",
   "execution_count": null,
   "metadata": {},
   "outputs": [],
   "source": [
    "reg.coef_"
   ]
  },
  {
   "cell_type": "code",
   "execution_count": null,
   "metadata": {},
   "outputs": [],
   "source": [
    "reg.intercept_"
   ]
  },
  {
   "cell_type": "code",
   "execution_count": null,
   "metadata": {},
   "outputs": [],
   "source": [
    "32143+.15*50000"
   ]
  },
  {
   "cell_type": "code",
   "execution_count": null,
   "metadata": {},
   "outputs": [],
   "source": [
    "# Generate a box plot of the final tumor volume of each mouse across four regimens of interest\n",
    "fig, ax1 = plt.subplots(figsize=(16,8))\n",
    "\n",
    "ax1.set_title(\"mean earning after 6 years from enrollment\")\n",
    "plt.rc('figure', titlesize=30)\n",
    "plt.rc('axes', titlesize=20)\n",
    "ax1.scatter(x,y5, color = 'purple')\n",
    "\n",
    "ax1.text(2, 90000, 'y = %.4f * x + %.3f\\nr^2 = %.3f'%(reg.coef_, reg.intercept_, fit_r2) , fontsize=15)\n",
    "ax1.plot(x, reg.coef_*x + reg.intercept_, color = 'b', linewidth = 4)\n",
    "ax1.set_xlabel(\"Tuition\")\n",
    "ax1.set_ylabel(\"Earnings\")\n",
    "plt.show()\n",
    "fig.savefig(path2 + 'earnings_tuition.png')"
   ]
  },
  {
   "cell_type": "code",
   "execution_count": null,
   "metadata": {},
   "outputs": [],
   "source": []
  },
  {
   "cell_type": "code",
   "execution_count": null,
   "metadata": {},
   "outputs": [],
   "source": []
  },
  {
   "cell_type": "code",
   "execution_count": null,
   "metadata": {},
   "outputs": [],
   "source": []
  },
  {
   "cell_type": "code",
   "execution_count": null,
   "metadata": {},
   "outputs": [],
   "source": []
  },
  {
   "cell_type": "code",
   "execution_count": null,
   "metadata": {},
   "outputs": [],
   "source": [
    "cost_clean_df.loc[cost_clean_df['PCT90_EARN_WNE_P6'].astype(int) > 150000, :]"
   ]
  },
  {
   "cell_type": "code",
   "execution_count": null,
   "metadata": {},
   "outputs": [],
   "source": [
    "cost_clean_df.loc[cost_clean_df['INSTNM'] == 'Smith College', :]"
   ]
  },
  {
   "cell_type": "code",
   "execution_count": null,
   "metadata": {},
   "outputs": [],
   "source": [
    "cost_clean_df.describe()"
   ]
  },
  {
   "cell_type": "code",
   "execution_count": null,
   "metadata": {},
   "outputs": [],
   "source": [
    "#PREDEG == 3 is the university is predominately a 4 year school.\n",
    "filtered_4_year_df = filtered_df.loc[df['PREDDEG'] == 3, :]\n",
    "filtered_4_year_df"
   ]
  },
  {
   "cell_type": "code",
   "execution_count": null,
   "metadata": {},
   "outputs": [],
   "source": [
    "filtered_4_year_df = filtered_4_year_df.fillna(0)\n",
    "filtered_4_year_df"
   ]
  },
  {
   "cell_type": "markdown",
   "metadata": {},
   "source": [
    "Begin random forest regession."
   ]
  },
  {
   "cell_type": "code",
   "execution_count": null,
   "metadata": {},
   "outputs": [],
   "source": [
    "#try to predict median income.  Must drop all columns relating to income from data set.\n",
    "#determine all column headings with earnings as the dev-category\n",
    "column_heading_df.loc[column_heading_df['dev-category'] == 'earnings', :]"
   ]
  },
  {
   "cell_type": "code",
   "execution_count": null,
   "metadata": {},
   "outputs": [],
   "source": [
    "#make a list of these variable names\n",
    "earning_variable_name = column_heading_df.loc[column_heading_df['dev-category'] == 'earnings', 'VARIABLE NAME'].to_list()\n",
    "earning_variable_name"
   ]
  },
  {
   "cell_type": "code",
   "execution_count": null,
   "metadata": {},
   "outputs": [],
   "source": [
    "#need to drop all rows that have a 0\n",
    "row_mean_0 = filtered_4_year_df.loc[filtered_4_year_df['MN_EARN_WNE_P6'] == 0, :].index\n",
    "row_mean_0"
   ]
  },
  {
   "cell_type": "code",
   "execution_count": null,
   "metadata": {},
   "outputs": [],
   "source": [
    "filtered_4_year_df = filtered_4_year_df.drop(index = row_mean_0)\n"
   ]
  },
  {
   "cell_type": "code",
   "execution_count": null,
   "metadata": {},
   "outputs": [],
   "source": [
    "filtered_4_year_df"
   ]
  },
  {
   "cell_type": "code",
   "execution_count": null,
   "metadata": {},
   "outputs": [],
   "source": [
    "filtered_4_year_df.to_csv(path2+'filter_4_year_df.csv')"
   ]
  },
  {
   "cell_type": "code",
   "execution_count": null,
   "metadata": {},
   "outputs": [],
   "source": [
    "#filter 4 year file based on only main campus\n",
    "filtered_4_year_main_df = filtered_4_year_df.loc[filtered_4_year_df['MAIN'] == 1, :]"
   ]
  },
  {
   "cell_type": "code",
   "execution_count": null,
   "metadata": {},
   "outputs": [],
   "source": [
    "filtered_4_year_main_df"
   ]
  },
  {
   "cell_type": "code",
   "execution_count": null,
   "metadata": {},
   "outputs": [],
   "source": [
    "filtered_4_year_main_df.to_csv(path2+'filter_4_year_main_df.csv')"
   ]
  },
  {
   "cell_type": "code",
   "execution_count": null,
   "metadata": {},
   "outputs": [],
   "source": [
    "filtered_4_year_column_list = filtered_4_year_df.columns.tolist()\n",
    "filtered_4_year_column_list"
   ]
  },
  {
   "cell_type": "code",
   "execution_count": null,
   "metadata": {},
   "outputs": [],
   "source": [
    "#value for y is mean earning 6 years from enrollment\n",
    "y = filtered_4_year_df['MN_EARN_WNE_P6']\n",
    "y_baseline = y"
   ]
  },
  {
   "cell_type": "code",
   "execution_count": null,
   "metadata": {},
   "outputs": [],
   "source": [
    "from pandas.api.types import is_numeric_dtype"
   ]
  },
  {
   "cell_type": "code",
   "execution_count": null,
   "metadata": {},
   "outputs": [],
   "source": [
    "#for X we need to drop all columns that are earnings.  We have kept the one we care about as y.\n",
    "for variable in earning_variable_name:\n",
    "    if variable in filtered_4_year_column_list :\n",
    "        filtered_4_year_df.drop(columns = variable, inplace = True)"
   ]
  },
  {
   "cell_type": "code",
   "execution_count": null,
   "metadata": {},
   "outputs": [],
   "source": [
    "y"
   ]
  },
  {
   "cell_type": "code",
   "execution_count": null,
   "metadata": {},
   "outputs": [],
   "source": [
    "#note the fewer columns.  All earnings categories were deleted.\n",
    "filtered_4_year_df"
   ]
  },
  {
   "cell_type": "code",
   "execution_count": null,
   "metadata": {},
   "outputs": [],
   "source": [
    "#need to drop all text based columns\n",
    "filtered_4_year_df = filtered_4_year_df.drop(columns = ['UNITID', 'OPEID', 'OPEID6', 'INSTNM', 'CITY', 'STABBR', 'ZIP', 'INSTURL'])"
   ]
  },
  {
   "cell_type": "code",
   "execution_count": null,
   "metadata": {},
   "outputs": [],
   "source": [
    "#get list of remaining columns to determine which ones still contain some text\n",
    "column_list = filtered_4_year_df.columns.to_list()"
   ]
  },
  {
   "cell_type": "code",
   "execution_count": null,
   "metadata": {},
   "outputs": [],
   "source": [
    "column_list"
   ]
  },
  {
   "cell_type": "code",
   "execution_count": null,
   "metadata": {},
   "outputs": [],
   "source": [
    "len(column_list)"
   ]
  },
  {
   "cell_type": "code",
   "execution_count": null,
   "metadata": {},
   "outputs": [],
   "source": [
    "filtered_4_year_df['VETERAN'].dtypes"
   ]
  },
  {
   "cell_type": "code",
   "execution_count": null,
   "metadata": {},
   "outputs": [],
   "source": [
    "is_numeric_dtype(filtered_4_year_df['VETERAN'])"
   ]
  },
  {
   "cell_type": "code",
   "execution_count": null,
   "metadata": {},
   "outputs": [],
   "source": [
    "filtered_4_year_df['FEMALE'].dtypes"
   ]
  },
  {
   "cell_type": "code",
   "execution_count": null,
   "metadata": {},
   "outputs": [],
   "source": [
    "for value in filtered_4_year_df['FEMALE']:\n",
    "    print(value)"
   ]
  },
  {
   "cell_type": "code",
   "execution_count": null,
   "metadata": {},
   "outputs": [],
   "source": [
    "i=0\n",
    "for row in column_list:\n",
    "    i=i+1\n",
    "    not_numeric = not is_numeric_dtype(filtered_4_year_df[row])\n",
    "    if not_numeric:\n",
    "        print(i, row)"
   ]
  },
  {
   "cell_type": "code",
   "execution_count": null,
   "metadata": {},
   "outputs": [],
   "source": [
    "filtered_4_year_df.replace(to_replace = 'Dental Hygiene/Hygienist', value = 0, inplace = True)"
   ]
  },
  {
   "cell_type": "code",
   "execution_count": null,
   "metadata": {},
   "outputs": [],
   "source": [
    "X = filtered_4_year_df\n",
    "##########################################################################X_base_line = X"
   ]
  },
  {
   "cell_type": "code",
   "execution_count": null,
   "metadata": {},
   "outputs": [],
   "source": [
    "print(X.shape, y.shape)"
   ]
  },
  {
   "cell_type": "code",
   "execution_count": null,
   "metadata": {},
   "outputs": [],
   "source": [
    "from sklearn.model_selection import train_test_split\n",
    "\n",
    "X_train, X_test, y_train, y_test = train_test_split(X, y, random_state=1)"
   ]
  },
  {
   "cell_type": "code",
   "execution_count": null,
   "metadata": {},
   "outputs": [],
   "source": [
    "# random forest generator classifier\n",
    "from sklearn.ensemble import RandomForestRegressor\n"
   ]
  },
  {
   "cell_type": "code",
   "execution_count": null,
   "metadata": {},
   "outputs": [],
   "source": [
    "rf = RandomForestRegressor()\n",
    "rf = rf.fit(X_train, y_train)\n",
    "rf.score(X_test, y_test)"
   ]
  },
  {
   "cell_type": "code",
   "execution_count": null,
   "metadata": {},
   "outputs": [],
   "source": [
    "# Random Forests in sklearn will automatically calculate feature importance\n",
    "importances = rf.feature_importances_\n",
    "importances"
   ]
  },
  {
   "cell_type": "code",
   "execution_count": null,
   "metadata": {},
   "outputs": [],
   "source": [
    "# We can sort the features by their importance\n",
    "sorted(zip(rf.feature_importances_, column_list), reverse=True)"
   ]
  },
  {
   "cell_type": "code",
   "execution_count": null,
   "metadata": {},
   "outputs": [],
   "source": [
    "#OK the repayment success is related to average income.  Makes sense.  If you have money you will repay. All repayment\n",
    "#columns should be dropped.\n",
    "repayment_var = column_heading_df.loc[column_heading_df['dev-category'] == 'repayment', 'VARIABLE NAME'].to_list()\n",
    "repayment_var"
   ]
  },
  {
   "cell_type": "code",
   "execution_count": null,
   "metadata": {},
   "outputs": [],
   "source": [
    "#the a means rev a after the first run of the data.\n",
    "filtered_4_year_a_df = filtered_4_year_df.copy()\n",
    "for column_name in repayment_var:\n",
    "    filtered_4_year_a_df.drop(columns = column_name, inplace = True)"
   ]
  },
  {
   "cell_type": "code",
   "execution_count": null,
   "metadata": {},
   "outputs": [],
   "source": [
    "filtered_4_year_a_df"
   ]
  },
  {
   "cell_type": "code",
   "execution_count": null,
   "metadata": {},
   "outputs": [],
   "source": [
    "X = filtered_4_year_a_df\n",
    "X_base_line = X\n",
    "#********************************************************"
   ]
  },
  {
   "cell_type": "code",
   "execution_count": null,
   "metadata": {},
   "outputs": [],
   "source": [
    "#X['IND_RPY_1YR_RT']"
   ]
  },
  {
   "cell_type": "code",
   "execution_count": null,
   "metadata": {},
   "outputs": [],
   "source": [
    "column_list_a = filtered_4_year_a_df.columns.to_list()"
   ]
  },
  {
   "cell_type": "code",
   "execution_count": null,
   "metadata": {},
   "outputs": [],
   "source": [
    "print(X.shape, y.shape)"
   ]
  },
  {
   "cell_type": "code",
   "execution_count": null,
   "metadata": {},
   "outputs": [],
   "source": [
    "from sklearn.model_selection import train_test_split\n",
    "\n",
    "X_train, X_test, y_train, y_test = train_test_split(X, y, random_state=1)"
   ]
  },
  {
   "cell_type": "code",
   "execution_count": null,
   "metadata": {},
   "outputs": [],
   "source": [
    "rfa = rf.fit(X_train, y_train)\n",
    "rfa.score(X_test, y_test)"
   ]
  },
  {
   "cell_type": "code",
   "execution_count": null,
   "metadata": {},
   "outputs": [],
   "source": [
    "# Random Forests in sklearn will automatically calculate feature importance\n",
    "importancesa = rfa.feature_importances_\n",
    "importancesa"
   ]
  },
  {
   "cell_type": "code",
   "execution_count": null,
   "metadata": {},
   "outputs": [],
   "source": [
    "# We can sort the features by their importance\n",
    "importance_list_a = sorted(zip(rfa.feature_importances_, column_list_a), reverse=True)\n",
    "importance_list_a"
   ]
  },
  {
   "cell_type": "code",
   "execution_count": null,
   "metadata": {},
   "outputs": [],
   "source": [
    "a_drop_list = []\n",
    "for tuple in importance_list_a:\n",
    "    if tuple[0] < 0.0001:\n",
    "        a_drop_list.append(tuple[1]) \n",
    "    print(tuple)"
   ]
  },
  {
   "cell_type": "code",
   "execution_count": null,
   "metadata": {},
   "outputs": [],
   "source": [
    "a_drop_list"
   ]
  },
  {
   "cell_type": "code",
   "execution_count": null,
   "metadata": {},
   "outputs": [],
   "source": [
    "#the a means rev b after the first run of the data.\n",
    "filtered_4_year_b_df = filtered_4_year_a_df.copy()\n",
    "for column_name in a_drop_list:\n",
    "    filtered_4_year_b_df.drop(columns = column_name, inplace = True)"
   ]
  },
  {
   "cell_type": "code",
   "execution_count": null,
   "metadata": {},
   "outputs": [],
   "source": [
    "filtered_4_year_b_df"
   ]
  },
  {
   "cell_type": "code",
   "execution_count": null,
   "metadata": {},
   "outputs": [],
   "source": [
    "X = filtered_4_year_b_df"
   ]
  },
  {
   "cell_type": "code",
   "execution_count": null,
   "metadata": {},
   "outputs": [],
   "source": [
    "column_list_b = filtered_4_year_b_df.columns.to_list()"
   ]
  },
  {
   "cell_type": "code",
   "execution_count": null,
   "metadata": {},
   "outputs": [],
   "source": [
    "print(X.shape, y.shape)"
   ]
  },
  {
   "cell_type": "code",
   "execution_count": null,
   "metadata": {},
   "outputs": [],
   "source": [
    "\n",
    "X_train, X_test, y_train, y_test = train_test_split(X, y, random_state=1)"
   ]
  },
  {
   "cell_type": "code",
   "execution_count": null,
   "metadata": {},
   "outputs": [],
   "source": [
    "rfb = RandomForestRegressor()\n",
    "rfb = rf.fit(X_train, y_train)\n",
    "rfb.score(X_test, y_test)"
   ]
  },
  {
   "cell_type": "code",
   "execution_count": null,
   "metadata": {},
   "outputs": [],
   "source": [
    "# We can sort the features by their importance\n",
    "importance_list_b = sorted(zip(rfb.feature_importances_, column_list_b), reverse=True)\n",
    "importance_list_b"
   ]
  },
  {
   "cell_type": "code",
   "execution_count": null,
   "metadata": {},
   "outputs": [],
   "source": [
    "#let's take a big cut.  Drop all columns with importance of less than 0.001\n",
    "b_drop_list = []\n",
    "for tuple in importance_list_b:\n",
    "    if tuple[0] < 0.001:\n",
    "        b_drop_list.append(tuple[1]) \n",
    "    print(tuple)"
   ]
  },
  {
   "cell_type": "code",
   "execution_count": null,
   "metadata": {},
   "outputs": [],
   "source": [
    "#the a means rev c after the first run of the data.\n",
    "filtered_4_year_c_df = filtered_4_year_b_df.copy()\n",
    "for column_name in b_drop_list:\n",
    "    filtered_4_year_c_df.drop(columns = column_name, inplace = True)"
   ]
  },
  {
   "cell_type": "code",
   "execution_count": null,
   "metadata": {},
   "outputs": [],
   "source": [
    "X = filtered_4_year_c_df"
   ]
  },
  {
   "cell_type": "code",
   "execution_count": null,
   "metadata": {},
   "outputs": [],
   "source": [
    "column_list_c = filtered_4_year_c_df.columns.to_list()"
   ]
  },
  {
   "cell_type": "code",
   "execution_count": null,
   "metadata": {},
   "outputs": [],
   "source": [
    "print(X.shape, y.shape)"
   ]
  },
  {
   "cell_type": "code",
   "execution_count": null,
   "metadata": {},
   "outputs": [],
   "source": [
    "X_train, X_test, y_train, y_test = train_test_split(X, y, random_state=1)"
   ]
  },
  {
   "cell_type": "code",
   "execution_count": null,
   "metadata": {},
   "outputs": [],
   "source": [
    "rfc = rf.fit(X_train, y_train)\n",
    "rfc.score(X_test, y_test)"
   ]
  },
  {
   "cell_type": "code",
   "execution_count": null,
   "metadata": {},
   "outputs": [],
   "source": [
    "# We can sort the features by their importance\n",
    "importance_list_c = sorted(zip(rfc.feature_importances_, column_list_c), reverse=True)\n",
    "importance_list_c"
   ]
  },
  {
   "cell_type": "code",
   "execution_count": null,
   "metadata": {},
   "outputs": [],
   "source": [
    "#let's take a big cut.  Drop all columns with importance of less than 0.001\n",
    "c_drop_list = []\n",
    "for tuple in importance_list_c:\n",
    "    if tuple[0] < 0.005:\n",
    "        c_drop_list.append(tuple[1]) \n",
    "    print(tuple)"
   ]
  },
  {
   "cell_type": "code",
   "execution_count": null,
   "metadata": {},
   "outputs": [],
   "source": [
    "#the a means rev d after the first run of the data.\n",
    "filtered_4_year_d_df = filtered_4_year_c_df.copy()\n",
    "for column_name in c_drop_list:\n",
    "    filtered_4_year_d_df.drop(columns = column_name, inplace = True)"
   ]
  },
  {
   "cell_type": "code",
   "execution_count": null,
   "metadata": {},
   "outputs": [],
   "source": [
    "X = filtered_4_year_d_df"
   ]
  },
  {
   "cell_type": "code",
   "execution_count": null,
   "metadata": {},
   "outputs": [],
   "source": [
    "column_list_d = filtered_4_year_d_df.columns.to_list()"
   ]
  },
  {
   "cell_type": "code",
   "execution_count": null,
   "metadata": {},
   "outputs": [],
   "source": [
    "print(X.shape, y.shape)"
   ]
  },
  {
   "cell_type": "code",
   "execution_count": null,
   "metadata": {},
   "outputs": [],
   "source": [
    "X_train, X_test, y_train, y_test = train_test_split(X, y, random_state=1)"
   ]
  },
  {
   "cell_type": "code",
   "execution_count": null,
   "metadata": {},
   "outputs": [],
   "source": [
    "rfd = rf.fit(X_train, y_train)\n",
    "base_prediction  = rfd.score(X_test, y_test)\n",
    "base_prediction"
   ]
  },
  {
   "cell_type": "code",
   "execution_count": null,
   "metadata": {},
   "outputs": [],
   "source": [
    "# We can sort the features by their importance\n",
    "importance_list_d = sorted(zip(rfd.feature_importances_, column_list_d), reverse=True)\n",
    "importance_list_d"
   ]
  },
  {
   "cell_type": "code",
   "execution_count": null,
   "metadata": {},
   "outputs": [],
   "source": [
    "column_heading_df"
   ]
  },
  {
   "cell_type": "code",
   "execution_count": null,
   "metadata": {},
   "outputs": [],
   "source": [
    "random_forest_summary_df = pd.DataFrame(columns = ['VARIABLE NAME', 'importance', 'developer-friendly-name', 'NAME OF DATA ELEMENT', 'dev-category'])"
   ]
  },
  {
   "cell_type": "code",
   "execution_count": null,
   "metadata": {},
   "outputs": [],
   "source": [
    "variable_name = column_heading_df.loc[column_heading_df['VARIABLE NAME'] == tuple[1], 'developer-friendly name'].to_numpy()[0]"
   ]
  },
  {
   "cell_type": "code",
   "execution_count": null,
   "metadata": {},
   "outputs": [],
   "source": [
    "for tuple in importance_list_d:\n",
    "    print(tuple[0])\n",
    "    print(tuple[1])\n",
    "    developer_name = column_heading_df.loc[column_heading_df['VARIABLE NAME'] == tuple[1], 'developer-friendly name'].to_numpy()[0]\n",
    "    data_element = column_heading_df.loc[column_heading_df['VARIABLE NAME'] == tuple[1], 'NAME OF DATA ELEMENT']\n",
    "    dev_category = column_heading_df.loc[column_heading_df['VARIABLE NAME'] == tuple[1], 'dev-category']\n",
    "\n",
    "    random_forest_summary_df = random_forest_summary_df.append({'VARIABLE NAME': tuple[1], 'importance' : tuple[0], 'developer-friendly-name': developer_name, 'NAME OF DATA ELEMENT': data_element, 'dev-category': dev_category}, ignore_index = True)\n",
    "    \n"
   ]
  },
  {
   "cell_type": "code",
   "execution_count": null,
   "metadata": {},
   "outputs": [],
   "source": [
    "random_forest_summary_df"
   ]
  },
  {
   "cell_type": "code",
   "execution_count": null,
   "metadata": {},
   "outputs": [],
   "source": [
    "random_forest_summary_df['when_dropped'] = 0\n",
    "random_forest_summary_df['base_prediction_score'] = base_prediction\n",
    "random_forest_summary_df['difference'] = 0"
   ]
  },
  {
   "cell_type": "code",
   "execution_count": null,
   "metadata": {},
   "outputs": [],
   "source": [
    "filtered_4_year_e_df = filtered_4_year_d_df.copy()\n",
    "for importance_variable in random_forest_summary_df.loc[:,'VARIABLE NAME'].to_list():\n",
    "    X = filtered_4_year_e_df.drop(columns = importance_variable)\n",
    "    X_train, X_test, y_train, y_test = train_test_split(X, y, random_state=1)\n",
    "    rfe = rf.fit(X_train, y_train)\n",
    "    new_base_prediction  = rfe.score(X_test, y_test)\n",
    "    random_forest_summary_df.loc[random_forest_summary_df['VARIABLE NAME'] == importance_variable, 'when_dropped'] = new_base_prediction\n",
    "    difference = base_prediction - new_base_prediction\n",
    "    random_forest_summary_df.loc[random_forest_summary_df['VARIABLE NAME'] == importance_variable, 'difference'] = difference\n",
    "    if difference < 0:\n",
    "        filtered_4_year_e_df.drop(columns = importance_variable, inplace = True)\n",
    "        print('dropping', importance_variable)"
   ]
  },
  {
   "cell_type": "code",
   "execution_count": null,
   "metadata": {},
   "outputs": [],
   "source": [
    "filtered_4_year_e_df"
   ]
  },
  {
   "cell_type": "code",
   "execution_count": null,
   "metadata": {},
   "outputs": [],
   "source": [
    "random_forest_summary_df"
   ]
  },
  {
   "cell_type": "code",
   "execution_count": null,
   "metadata": {},
   "outputs": [],
   "source": [
    "column_list_e = filtered_4_year_e_df.columns.to_list()\n"
   ]
  },
  {
   "cell_type": "code",
   "execution_count": null,
   "metadata": {},
   "outputs": [],
   "source": [
    "column_list_e"
   ]
  },
  {
   "cell_type": "code",
   "execution_count": null,
   "metadata": {},
   "outputs": [],
   "source": [
    "X = filtered_4_year_e_df\n",
    "X_train, X_test, y_train, y_test = train_test_split(X, y, random_state=1)\n",
    "rfe = rf.fit(X_train, y_train)\n",
    "new_base_prediction  = rfe.score(X_test, y_test)\n",
    "new_base_prediction"
   ]
  },
  {
   "cell_type": "code",
   "execution_count": null,
   "metadata": {},
   "outputs": [],
   "source": [
    "# We can sort the features by their importance\n",
    "importance_list_e = sorted(zip(rfe.feature_importances_, column_list_e), reverse=True)\n",
    "importance_list_e"
   ]
  },
  {
   "cell_type": "code",
   "execution_count": null,
   "metadata": {},
   "outputs": [],
   "source": [
    "random_forest_summary_df_2 = pd.DataFrame(columns = ['VARIABLE NAME', 'importance', 'developer-friendly-name', 'NAME OF DATA ELEMENT', 'dev-category'])"
   ]
  },
  {
   "cell_type": "code",
   "execution_count": null,
   "metadata": {},
   "outputs": [],
   "source": [
    "for tuple in importance_list_e:\n",
    "    print(tuple[0])\n",
    "    print(tuple[1])\n",
    "    developer_name = column_heading_df.loc[column_heading_df['VARIABLE NAME'] == tuple[1], 'developer-friendly name'].to_numpy()[0]\n",
    "    data_element = column_heading_df.loc[column_heading_df['VARIABLE NAME'] == tuple[1], 'NAME OF DATA ELEMENT']\n",
    "    dev_category = column_heading_df.loc[column_heading_df['VARIABLE NAME'] == tuple[1], 'dev-category']\n",
    "\n",
    "    random_forest_summary_df_2 = random_forest_summary_df_2.append({'VARIABLE NAME': tuple[1], 'importance' : tuple[0], 'developer-friendly-name': developer_name, 'NAME OF DATA ELEMENT': data_element, 'dev-category': dev_category}, ignore_index = True)\n",
    "    \n"
   ]
  },
  {
   "cell_type": "code",
   "execution_count": null,
   "metadata": {},
   "outputs": [],
   "source": [
    "random_forest_summary_df_2"
   ]
  },
  {
   "cell_type": "code",
   "execution_count": null,
   "metadata": {},
   "outputs": [],
   "source": [
    "random_forest_summary_df_2['when_dropped'] = 0\n",
    "random_forest_summary_df_2['base_prediction_score'] = new_base_prediction\n",
    "random_forest_summary_df_2['difference'] = 0"
   ]
  },
  {
   "cell_type": "code",
   "execution_count": null,
   "metadata": {},
   "outputs": [],
   "source": [
    "filtered_4_year_f_df = filtered_4_year_e_df.copy()\n",
    "for importance_variable in random_forest_summary_df_2.loc[:,'VARIABLE NAME'].to_list():\n",
    "    X = filtered_4_year_e_df.drop(columns = importance_variable)\n",
    "    X_train, X_test, y_train, y_test = train_test_split(X, y, random_state=1)\n",
    "    rfe = rf.fit(X_train, y_train)\n",
    "    new_base_prediction  = rfe.score(X_test, y_test)\n",
    "    random_forest_summary_df_2.loc[random_forest_summary_df['VARIABLE NAME'] == importance_variable, 'when_dropped'] = new_base_prediction\n",
    "    difference = base_prediction - new_base_prediction\n",
    "    random_forest_summary_df_2.loc[random_forest_summary_df['VARIABLE NAME'] == importance_variable, 'difference'] = difference\n",
    "    if difference < -.001:\n",
    "        filtered_4_year_f_df.drop(columns = importance_variable, inplace = True)\n",
    "        print('difference', difference)\n",
    "        print('dropping', importance_variable)"
   ]
  },
  {
   "cell_type": "code",
   "execution_count": null,
   "metadata": {},
   "outputs": [],
   "source": [
    "filtered_4_year_f_df"
   ]
  },
  {
   "cell_type": "code",
   "execution_count": null,
   "metadata": {},
   "outputs": [],
   "source": [
    "X = filtered_4_year_f_df\n",
    "X_train, X_test, y_train, y_test = train_test_split(X, y, random_state=1)\n",
    "rff = rf.fit(X_train, y_train)\n",
    "new_base_prediction  = rff.score(X_test, y_test)\n",
    "new_base_prediction"
   ]
  },
  {
   "cell_type": "code",
   "execution_count": null,
   "metadata": {},
   "outputs": [],
   "source": [
    "column_list_f = filtered_4_year_f_df.columns.to_list()"
   ]
  },
  {
   "cell_type": "code",
   "execution_count": null,
   "metadata": {},
   "outputs": [],
   "source": [
    "# We can sort the features by their importance\n",
    "importance_list_f = sorted(zip(rff.feature_importances_, column_list_f), reverse=True)\n",
    "importance_list_f"
   ]
  },
  {
   "cell_type": "code",
   "execution_count": null,
   "metadata": {},
   "outputs": [],
   "source": [
    "random_forest_summary_df_3 = pd.DataFrame(columns = ['VARIABLE NAME', 'importance', 'developer-friendly-name', 'NAME OF DATA ELEMENT', 'dev-category'])"
   ]
  },
  {
   "cell_type": "code",
   "execution_count": null,
   "metadata": {},
   "outputs": [],
   "source": [
    "for tuple in importance_list_f:\n",
    "    print(tuple[0])\n",
    "    print(tuple[1])\n",
    "    developer_name = column_heading_df.loc[column_heading_df['VARIABLE NAME'] == tuple[1], 'developer-friendly name'].to_numpy()[0]\n",
    "    data_element = column_heading_df.loc[column_heading_df['VARIABLE NAME'] == tuple[1], 'NAME OF DATA ELEMENT']\n",
    "    dev_category = column_heading_df.loc[column_heading_df['VARIABLE NAME'] == tuple[1], 'dev-category']\n",
    "\n",
    "    random_forest_summary_df_3 = random_forest_summary_df_3.append({'VARIABLE NAME': tuple[1], 'importance' : tuple[0], 'developer-friendly-name': developer_name, 'NAME OF DATA ELEMENT': data_element, 'dev-category': dev_category}, ignore_index = True)\n",
    "    \n"
   ]
  },
  {
   "cell_type": "code",
   "execution_count": null,
   "metadata": {},
   "outputs": [],
   "source": [
    "random_forest_summary_df_3"
   ]
  },
  {
   "cell_type": "code",
   "execution_count": null,
   "metadata": {},
   "outputs": [],
   "source": [
    "#let's drop the 3 variables that reference pell"
   ]
  },
  {
   "cell_type": "code",
   "execution_count": null,
   "metadata": {},
   "outputs": [],
   "source": [
    "filtered_4_year_g_df = filtered_4_year_f_df\n",
    "#filtered_4_year_g_df = filtered_4_year_f_df.drop(columns = ['NOPELL_YR6_N'])"
   ]
  },
  {
   "cell_type": "code",
   "execution_count": null,
   "metadata": {},
   "outputs": [],
   "source": [
    "X = filtered_4_year_g_df\n",
    "X_train, X_test, y_train, y_test = train_test_split(X, y, random_state=1)\n",
    "rfg = rf.fit(X_train, y_train)\n",
    "new_base_prediction  = rfg.score(X_test, y_test)\n",
    "new_base_prediction"
   ]
  },
  {
   "cell_type": "code",
   "execution_count": null,
   "metadata": {},
   "outputs": [],
   "source": [
    "column_list_g = filtered_4_year_g_df.columns.to_list()"
   ]
  },
  {
   "cell_type": "code",
   "execution_count": null,
   "metadata": {},
   "outputs": [],
   "source": [
    "# We can sort the features by their importance\n",
    "importance_list_g = sorted(zip(rfg.feature_importances_, column_list_g), reverse=True)\n",
    "importance_list_g"
   ]
  },
  {
   "cell_type": "code",
   "execution_count": null,
   "metadata": {},
   "outputs": [],
   "source": [
    "random_forest_summary_df_4 = pd.DataFrame(columns = ['VARIABLE NAME', 'importance', 'developer-friendly-name', 'NAME OF DATA ELEMENT', 'dev-category'])"
   ]
  },
  {
   "cell_type": "code",
   "execution_count": null,
   "metadata": {},
   "outputs": [],
   "source": [
    "for tuple in importance_list_g:\n",
    "    print(tuple[0])\n",
    "    print(tuple[1])\n",
    "    developer_name = column_heading_df.loc[column_heading_df['VARIABLE NAME'] == tuple[1], 'developer-friendly name'].to_numpy()[0]\n",
    "    data_element = column_heading_df.loc[column_heading_df['VARIABLE NAME'] == tuple[1], 'NAME OF DATA ELEMENT']\n",
    "    dev_category = column_heading_df.loc[column_heading_df['VARIABLE NAME'] == tuple[1], 'dev-category']\n",
    "\n",
    "    random_forest_summary_df_4 = random_forest_summary_df_4.append({'VARIABLE NAME': tuple[1], 'importance' : tuple[0], 'developer-friendly-name': developer_name, 'NAME OF DATA ELEMENT': data_element, 'dev-category': dev_category}, ignore_index = True)\n",
    "    \n"
   ]
  },
  {
   "cell_type": "code",
   "execution_count": null,
   "metadata": {},
   "outputs": [],
   "source": [
    "random_forest_summary_df_4"
   ]
  },
  {
   "cell_type": "code",
   "execution_count": null,
   "metadata": {},
   "outputs": [],
   "source": [
    "rfg.base_estimator_"
   ]
  },
  {
   "cell_type": "code",
   "execution_count": null,
   "metadata": {},
   "outputs": [],
   "source": [
    "# Create the RandomizedSearchCV model\n",
    "from sklearn.model_selection import RandomizedSearchCV# Number of trees in random forest\n",
    "n_estimators = [int(x) for x in np.linspace(start = 200, stop = 2000, num = 10)]\n",
    "# Number of features to consider at every split\n",
    "max_features = ['auto', 'sqrt']\n",
    "# Maximum number of levels in tree\n",
    "max_depth = [int(x) for x in np.linspace(10, 110, num = 11)]\n",
    "max_depth.append(None)\n",
    "# Minimum number of samples required to split a node\n",
    "min_samples_split = [2, 5, 10]\n",
    "#impurity decrease\n",
    "impurity_decrease = [0, 1, 5, 10]\n",
    "# Minimum number of samples required at each leaf node\n",
    "min_samples_leaf = [1, 2, 4]\n",
    "# Method of selecting samples for training each tree\n",
    "bootstrap = [True, False]# Create the random grid\n",
    "random_grid = {'n_estimators': n_estimators,\n",
    "               'min_impurity_decrease' : impurity_decrease,\n",
    "               'max_features': max_features,\n",
    "               'max_depth': max_depth,\n",
    "               'min_samples_split': min_samples_split,\n",
    "               'min_samples_leaf': min_samples_leaf,\n",
    "               'bootstrap': bootstrap,\n",
    "                'oob_score': [True, False]}\n",
    "random_grid"
   ]
  },
  {
   "cell_type": "code",
   "execution_count": null,
   "metadata": {},
   "outputs": [],
   "source": [
    "rf_random = RandomizedSearchCV(estimator = rfg, param_distributions = random_grid, cv = 3, verbose = 2, n_iter = 100, random_state=42, n_jobs = -1)"
   ]
  },
  {
   "cell_type": "code",
   "execution_count": null,
   "metadata": {},
   "outputs": [],
   "source": [
    "rf_random.fit(X_train, y_train)"
   ]
  },
  {
   "cell_type": "code",
   "execution_count": null,
   "metadata": {},
   "outputs": [],
   "source": [
    "rf_random.score(X_test, y_test)"
   ]
  },
  {
   "cell_type": "code",
   "execution_count": null,
   "metadata": {},
   "outputs": [],
   "source": [
    "rf_random.best_params_"
   ]
  },
  {
   "cell_type": "code",
   "execution_count": null,
   "metadata": {},
   "outputs": [],
   "source": [
    "#OK so lets try a linear model too.  Lasso regression\n",
    "#let's reset X back to the beginning when all the columns were there.\n"
   ]
  },
  {
   "cell_type": "code",
   "execution_count": null,
   "metadata": {},
   "outputs": [],
   "source": [
    "X = X_base_line\n",
    "y = y_baseline"
   ]
  },
  {
   "cell_type": "code",
   "execution_count": null,
   "metadata": {},
   "outputs": [],
   "source": [
    "columns = X.columns.to_list()"
   ]
  },
  {
   "cell_type": "code",
   "execution_count": null,
   "metadata": {},
   "outputs": [],
   "source": [
    "X_train, X_test, y_train, y_test = train_test_split(X, y, random_state=1)"
   ]
  },
  {
   "cell_type": "code",
   "execution_count": null,
   "metadata": {},
   "outputs": [],
   "source": [
    "X_train"
   ]
  },
  {
   "cell_type": "code",
   "execution_count": null,
   "metadata": {},
   "outputs": [],
   "source": [
    "X_train.shape"
   ]
  },
  {
   "cell_type": "code",
   "execution_count": null,
   "metadata": {},
   "outputs": [],
   "source": [
    "y_train.shape"
   ]
  },
  {
   "cell_type": "code",
   "execution_count": null,
   "metadata": {},
   "outputs": [],
   "source": [
    "y_train_nat = y_train"
   ]
  },
  {
   "cell_type": "code",
   "execution_count": null,
   "metadata": {},
   "outputs": [],
   "source": [
    "y_train = y_train.ravel().reshape(1,-1)"
   ]
  },
  {
   "cell_type": "code",
   "execution_count": null,
   "metadata": {},
   "outputs": [],
   "source": [
    "# Scale your data\n",
    "from sklearn.preprocessing import MinMaxScaler\n",
    "X_scaler = MinMaxScaler().fit(X_train)\n",
    "y_scaler = MinMaxScaler().fit(y_train)\n"
   ]
  },
  {
   "cell_type": "code",
   "execution_count": null,
   "metadata": {},
   "outputs": [],
   "source": [
    "from sklearn.linear_model import Lasso\n",
    "model = Lasso(alpha = 0.01,  max_iter = 10000, tol = .1)"
   ]
  },
  {
   "cell_type": "code",
   "execution_count": null,
   "metadata": {},
   "outputs": [],
   "source": [
    "\n",
    "lasso_a = model.fit(X_train, y_train.ravel())\n",
    "lasso_prediction  = model.score(X_test, y_test)\n",
    "lasso_prediction"
   ]
  },
  {
   "cell_type": "code",
   "execution_count": null,
   "metadata": {},
   "outputs": [],
   "source": [
    "pred_train_lasso = model.predict(X_train)\n",
    "pred_test_lasso = model.predict(X_test)"
   ]
  },
  {
   "cell_type": "code",
   "execution_count": null,
   "metadata": {},
   "outputs": [],
   "source": [
    "print(np.sqrt(mean_squared_error(y_train_nat,pred_train_lasso)))\n",
    "print(r2_score(y_train_nat, pred_train_lasso))\n",
    "\n",
    "print(np.sqrt(mean_squared_error(y_test,pred_test_lasso)))\n",
    "print(r2_score(y_test, pred_test_lasso))"
   ]
  },
  {
   "cell_type": "code",
   "execution_count": null,
   "metadata": {},
   "outputs": [],
   "source": [
    "lasso_a.coef_"
   ]
  },
  {
   "cell_type": "code",
   "execution_count": null,
   "metadata": {},
   "outputs": [],
   "source": [
    "df_coef = pd.DataFrame({'coef' : lasso_a.coef_,'abs(coef_)': abs(lasso_a.coef_), 'name': columns})\n",
    "df_coef=df_coef.sort_values('abs(coef_)', ascending = False)[:].reset_index()\n",
    "df_coef"
   ]
  },
  {
   "cell_type": "code",
   "execution_count": null,
   "metadata": {},
   "outputs": [],
   "source": [
    "from sklearn.feature_selection import RFE"
   ]
  },
  {
   "cell_type": "code",
   "execution_count": null,
   "metadata": {},
   "outputs": [],
   "source": [
    "number_features = 30\n",
    "rfe = RFE(estimator = model, n_features_to_select = number_features,  step=1)"
   ]
  },
  {
   "cell_type": "code",
   "execution_count": null,
   "metadata": {},
   "outputs": [],
   "source": [
    "results = rfe.fit(X_test, y_test)"
   ]
  },
  {
   "cell_type": "code",
   "execution_count": null,
   "metadata": {},
   "outputs": [],
   "source": [
    "results.score(X_test, y_test)"
   ]
  },
  {
   "cell_type": "code",
   "execution_count": null,
   "metadata": {},
   "outputs": [],
   "source": [
    "results.ranking_"
   ]
  },
  {
   "cell_type": "code",
   "execution_count": null,
   "metadata": {},
   "outputs": [],
   "source": [
    "results.support_"
   ]
  },
  {
   "cell_type": "code",
   "execution_count": null,
   "metadata": {},
   "outputs": [],
   "source": [
    "lasso_results = {'results_value':results.ranking_, 'results_keep':results.support_, 'columns': columns, 'coefficient': lasso_a.coef_}"
   ]
  },
  {
   "cell_type": "code",
   "execution_count": null,
   "metadata": {},
   "outputs": [],
   "source": [
    "lasso_results_df = pd.DataFrame(data = lasso_results)"
   ]
  },
  {
   "cell_type": "code",
   "execution_count": null,
   "metadata": {},
   "outputs": [],
   "source": [
    "lasso_results_df['abs(coef_)'] = np.abs(lasso_results_df['coefficient'])\n",
    "lasso_results_df"
   ]
  },
  {
   "cell_type": "code",
   "execution_count": null,
   "metadata": {},
   "outputs": [],
   "source": [
    "lasso_results_sorted_df = lasso_results_df.sort_values(by = ['abs(coef_)'], axis = 0, ascending = False).head(number_features)"
   ]
  },
  {
   "cell_type": "code",
   "execution_count": null,
   "metadata": {},
   "outputs": [],
   "source": [
    "lasso_results_sorted_df"
   ]
  },
  {
   "cell_type": "code",
   "execution_count": null,
   "metadata": {},
   "outputs": [],
   "source": [
    "lasso_results_sorted_stack = lasso_results_sorted_df['coefficient']\n",
    "mask = lasso_results_sorted_stack > 0\n"
   ]
  },
  {
   "cell_type": "code",
   "execution_count": null,
   "metadata": {},
   "outputs": [],
   "source": [
    "x = lasso_results_sorted_df['columns']\n",
    "y = np.abs(lasso_results_sorted_df['coefficient'])"
   ]
  },
  {
   "cell_type": "code",
   "execution_count": null,
   "metadata": {},
   "outputs": [],
   "source": [
    "mask.values"
   ]
  },
  {
   "cell_type": "code",
   "execution_count": null,
   "metadata": {},
   "outputs": [],
   "source": [
    "x.to_list()"
   ]
  },
  {
   "cell_type": "code",
   "execution_count": null,
   "metadata": {},
   "outputs": [],
   "source": [
    "# Generate a box plot of the final tumor volume of each mouse across four regimens of interest\n",
    "fig, ax1 = plt.subplots(1,1, figsize=(8,16))\n",
    "ax1.set_title(\"Income predictors - Lasso\")\n",
    "colors = np.array(['g'] * len(x))\n",
    "colors[~mask.values] = 'r'\n",
    "ax1.set_xticklabels(x,rotation = 90)\n",
    "ax1.bar(x,y, color = colors)\n",
    "\n",
    "plt.show()\n",
    "fig.savefig(path2 + 'lasso_income_predictor.png', format = 'png' , bbox_inches='tight')"
   ]
  },
  {
   "cell_type": "code",
   "execution_count": null,
   "metadata": {},
   "outputs": [],
   "source": [
    "random_forest_summary_df_4"
   ]
  },
  {
   "cell_type": "code",
   "execution_count": null,
   "metadata": {},
   "outputs": [],
   "source": [
    "#now lets do the elastic net model"
   ]
  },
  {
   "cell_type": "code",
   "execution_count": null,
   "metadata": {},
   "outputs": [],
   "source": [
    "X = X_base_line\n",
    "y = y_baseline"
   ]
  },
  {
   "cell_type": "code",
   "execution_count": null,
   "metadata": {},
   "outputs": [],
   "source": [
    "#not supposed to be here.  Should have been dropped.  All RPY column values\n",
    "#X['IND_RPY_1YR_RT']\n"
   ]
  },
  {
   "cell_type": "code",
   "execution_count": null,
   "metadata": {},
   "outputs": [],
   "source": [
    "columns = X.columns.to_list()"
   ]
  },
  {
   "cell_type": "code",
   "execution_count": null,
   "metadata": {},
   "outputs": [],
   "source": [
    "X_train, X_test, y_train, y_test = train_test_split(X, y, random_state=1)"
   ]
  },
  {
   "cell_type": "code",
   "execution_count": null,
   "metadata": {},
   "outputs": [],
   "source": [
    "y_train_nat = y_train"
   ]
  },
  {
   "cell_type": "code",
   "execution_count": null,
   "metadata": {},
   "outputs": [],
   "source": [
    "y_train = y_train.ravel().reshape(1,-1)"
   ]
  },
  {
   "cell_type": "code",
   "execution_count": null,
   "metadata": {},
   "outputs": [],
   "source": [
    "# Scale your data\n",
    "from sklearn.preprocessing import MinMaxScaler\n",
    "X_scaler = MinMaxScaler().fit(X_train)\n",
    "y_scaler = MinMaxScaler().fit(y_train)\n"
   ]
  },
  {
   "cell_type": "code",
   "execution_count": null,
   "metadata": {},
   "outputs": [],
   "source": [
    "from sklearn.linear_model import ElasticNet\n",
    "model = ElasticNet(alpha = 0.05,l1_ratio = .4,  max_iter = 10000, tol = .1)"
   ]
  },
  {
   "cell_type": "code",
   "execution_count": null,
   "metadata": {},
   "outputs": [],
   "source": [
    "elastic_net = model.fit(X_train, y_train.ravel())\n",
    "elastic_net  = model.score(X_test, y_test)\n",
    "elastic_net"
   ]
  },
  {
   "cell_type": "code",
   "execution_count": null,
   "metadata": {},
   "outputs": [],
   "source": [
    "alpha = [0.01, .05, .1, .15, .2, .4, .6, .8, 1]\n",
    "l1_ratio = [0, .2, .4, .6, .8, 1]\n",
    "# Maximum number of levels in tree\n",
    "fit_intercept = [True, False]\n",
    "normalize = [True, False]\n",
    "warm_start = [True, False]\n",
    "selection = ['cyclic', 'random']\n",
    "random_state = [10]\n",
    "\n",
    "random_grid = {'alpha': alpha,\n",
    "               'l1_ratio': l1_ratio,\n",
    "               'fit_intercept' : fit_intercept,\n",
    "               'normalize': normalize,\n",
    "               'warm_start': warm_start,\n",
    "               'selection': selection,\n",
    "               'random_state': random_state}\n",
    "random_grid"
   ]
  },
  {
   "cell_type": "code",
   "execution_count": null,
   "metadata": {},
   "outputs": [],
   "source": [
    "elastic_random = RandomizedSearchCV(estimator = model, param_distributions = random_grid, verbose = 2, n_iter = 100, random_state=42, n_jobs = -1)"
   ]
  },
  {
   "cell_type": "code",
   "execution_count": null,
   "metadata": {},
   "outputs": [],
   "source": [
    "elastic_random.fit(X_train, y_train.ravel())"
   ]
  },
  {
   "cell_type": "code",
   "execution_count": null,
   "metadata": {},
   "outputs": [],
   "source": [
    "predicted_y = elastic_random.predict(X_test)"
   ]
  },
  {
   "cell_type": "code",
   "execution_count": null,
   "metadata": {},
   "outputs": [],
   "source": [
    "elastic_random.score(X_test, y_test)"
   ]
  },
  {
   "cell_type": "code",
   "execution_count": null,
   "metadata": {},
   "outputs": [],
   "source": [
    "elastic_random"
   ]
  },
  {
   "cell_type": "code",
   "execution_count": null,
   "metadata": {},
   "outputs": [],
   "source": [
    "elastic_random.best_estimator_"
   ]
  },
  {
   "cell_type": "code",
   "execution_count": null,
   "metadata": {},
   "outputs": [],
   "source": [
    "model_best = ElasticNet(alpha=0.01, copy_X=True, fit_intercept=True, l1_ratio=0.8,\n",
    "           max_iter=10000, normalize=False, positive=False, precompute=False,\n",
    "           random_state=10, selection='random', tol=0.1, warm_start=False)\n"
   ]
  },
  {
   "cell_type": "code",
   "execution_count": null,
   "metadata": {},
   "outputs": [],
   "source": [
    "model_best.fit(X_train, y_train.ravel())\n"
   ]
  },
  {
   "cell_type": "code",
   "execution_count": null,
   "metadata": {},
   "outputs": [],
   "source": [
    "model_best.coef_"
   ]
  },
  {
   "cell_type": "code",
   "execution_count": null,
   "metadata": {},
   "outputs": [],
   "source": [
    "columns = X_train.columns"
   ]
  },
  {
   "cell_type": "code",
   "execution_count": null,
   "metadata": {},
   "outputs": [],
   "source": [
    "elasticnet_results = {'columns': columns, 'coefficient': model_best.coef_}"
   ]
  },
  {
   "cell_type": "code",
   "execution_count": null,
   "metadata": {},
   "outputs": [],
   "source": [
    "elasticnet_results_df = pd.DataFrame(data = elasticnet_results)"
   ]
  },
  {
   "cell_type": "code",
   "execution_count": null,
   "metadata": {},
   "outputs": [],
   "source": [
    "elasticnet_results_df['abs(coef_)'] = np.abs(elasticnet_results_df['coefficient'])"
   ]
  },
  {
   "cell_type": "code",
   "execution_count": null,
   "metadata": {},
   "outputs": [],
   "source": [
    "number_of_features = 30\n",
    "elasticnet_results_df = elasticnet_results_df.sort_values(by = ['abs(coef_)'], axis = 0, ascending = False).head(number_of_features)"
   ]
  },
  {
   "cell_type": "code",
   "execution_count": null,
   "metadata": {},
   "outputs": [],
   "source": [
    "elasticnet_results_df"
   ]
  },
  {
   "cell_type": "code",
   "execution_count": null,
   "metadata": {},
   "outputs": [],
   "source": [
    "mask = elasticnet_results_df['coefficient'] > 0"
   ]
  },
  {
   "cell_type": "code",
   "execution_count": null,
   "metadata": {},
   "outputs": [],
   "source": [
    "x = elasticnet_results_df['columns']\n",
    "y = elasticnet_results_df['abs(coef_)']"
   ]
  },
  {
   "cell_type": "code",
   "execution_count": null,
   "metadata": {},
   "outputs": [],
   "source": [
    "# Generate a box plot of the final tumor volume of each mouse across four regimens of interest\n",
    "fig, ax1 = plt.subplots(1,1, figsize=(8,16))\n",
    "ax1.set_title(\"Income predictors - Elastic Net\")\n",
    "colors = np.array(['g'] * len(x))\n",
    "colors[~mask.values] = 'r'\n",
    "ax1.set_xticklabels(x,rotation = 90)\n",
    "ax1.bar(x,y, color = colors)\n",
    "\n",
    "plt.show()\n",
    "fig.savefig(path2 + 'elastic_net_income_predictor.png', format = 'png' , bbox_inches='tight')"
   ]
  },
  {
   "cell_type": "code",
   "execution_count": null,
   "metadata": {},
   "outputs": [],
   "source": []
  },
  {
   "cell_type": "code",
   "execution_count": null,
   "metadata": {},
   "outputs": [],
   "source": []
  },
  {
   "cell_type": "code",
   "execution_count": null,
   "metadata": {},
   "outputs": [],
   "source": [
    "\n",
    "feature_importance = pd.Series(index = X_train.columns, data = np.abs(model_best.coef_))\n",
    "\n",
    "n_selected_features = (feature_importance>3000).sum()\n",
    "print('{0:d} features, reduction of {1:2.2f}%'.format(\n",
    "    n_selected_features,(1-n_selected_features/len(feature_importance))*100))\n",
    "\n",
    "feature_importance.sort_values().tail(30).plot(kind = 'bar', figsize = (18,6))\n",
    "\n"
   ]
  },
  {
   "cell_type": "code",
   "execution_count": null,
   "metadata": {},
   "outputs": [],
   "source": [
    "feature_importance.sort_values(ascending = False).head(50)"
   ]
  },
  {
   "cell_type": "code",
   "execution_count": null,
   "metadata": {},
   "outputs": [],
   "source": []
  },
  {
   "cell_type": "code",
   "execution_count": null,
   "metadata": {},
   "outputs": [],
   "source": []
  },
  {
   "cell_type": "code",
   "execution_count": null,
   "metadata": {},
   "outputs": [],
   "source": []
  },
  {
   "cell_type": "code",
   "execution_count": null,
   "metadata": {},
   "outputs": [],
   "source": []
  },
  {
   "cell_type": "code",
   "execution_count": null,
   "metadata": {},
   "outputs": [],
   "source": []
  },
  {
   "cell_type": "code",
   "execution_count": null,
   "metadata": {},
   "outputs": [],
   "source": []
  },
  {
   "cell_type": "code",
   "execution_count": null,
   "metadata": {},
   "outputs": [],
   "source": []
  },
  {
   "cell_type": "code",
   "execution_count": null,
   "metadata": {},
   "outputs": [],
   "source": []
  },
  {
   "cell_type": "code",
   "execution_count": null,
   "metadata": {},
   "outputs": [],
   "source": []
  },
  {
   "cell_type": "code",
   "execution_count": null,
   "metadata": {},
   "outputs": [],
   "source": []
  },
  {
   "cell_type": "code",
   "execution_count": null,
   "metadata": {},
   "outputs": [],
   "source": []
  },
  {
   "cell_type": "code",
   "execution_count": null,
   "metadata": {},
   "outputs": [],
   "source": []
  },
  {
   "cell_type": "code",
   "execution_count": null,
   "metadata": {},
   "outputs": [],
   "source": []
  }
 ],
 "metadata": {
  "kernelspec": {
   "display_name": "Python 3",
   "language": "python",
   "name": "python3"
  },
  "language_info": {
   "codemirror_mode": {
    "name": "ipython",
    "version": 3
   },
   "file_extension": ".py",
   "mimetype": "text/x-python",
   "name": "python",
   "nbconvert_exporter": "python",
   "pygments_lexer": "ipython3",
   "version": "3.7.7"
  }
 },
 "nbformat": 4,
 "nbformat_minor": 4
}
