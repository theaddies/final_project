{
 "cells": [
  {
   "cell_type": "code",
   "execution_count": 18,
   "metadata": {},
   "outputs": [],
   "source": [
    "# Dependencies and Setup\n",
    "import matplotlib.pyplot as plt\n",
    "import pandas as pd\n",
    "import numpy as np\n",
    "import requests"
   ]
  },
  {
   "cell_type": "code",
   "execution_count": null,
   "metadata": {},
   "outputs": [],
   "source": [
    " # Save config information.\n",
    "url = \"http://api.openweathermap.org/data/2.5/weather?\"\n",
    "units = \"imperial\"\n",
    "\n",
    "# Build partial query URL\n",
    "query_url = f\"{url}appid={weather_api_key}&units={units}&q=\""
   ]
  },
  {
   "cell_type": "code",
   "execution_count": 14,
   "metadata": {},
   "outputs": [
    {
     "ename": "ImportError",
     "evalue": "cannot import name 'data_gov_api_key' from 'api_keys' (C:\\Users\\thead\\Documents\\bootcamp\\Projects\\final_project\\api_keys.py)",
     "output_type": "error",
     "traceback": [
      "\u001b[1;31m---------------------------------------------------------------------------\u001b[0m",
      "\u001b[1;31mImportError\u001b[0m                               Traceback (most recent call last)",
      "\u001b[1;32m<ipython-input-14-18c08e28ce20>\u001b[0m in \u001b[0;36m<module>\u001b[1;34m\u001b[0m\n\u001b[1;32m----> 1\u001b[1;33m \u001b[1;32mfrom\u001b[0m \u001b[0mapi_keys\u001b[0m \u001b[1;32mimport\u001b[0m \u001b[0mdata_gov_api_key\u001b[0m\u001b[1;33m\u001b[0m\u001b[1;33m\u001b[0m\u001b[0m\n\u001b[0m",
      "\u001b[1;31mImportError\u001b[0m: cannot import name 'data_gov_api_key' from 'api_keys' (C:\\Users\\thead\\Documents\\bootcamp\\Projects\\final_project\\api_keys.py)"
     ]
    }
   ],
   "source": [
    "from api_keys import data_gov_api_key"
   ]
  },
  {
   "cell_type": "code",
   "execution_count": 24,
   "metadata": {},
   "outputs": [],
   "source": [
    "data_gov_api_key = \"CIZiGpPZu3BhVsXPSEDhBamg5yhNzo5wJBdLXmCj\""
   ]
  },
  {
   "cell_type": "code",
   "execution_count": 21,
   "metadata": {},
   "outputs": [],
   "source": [
    "base_url = \"https://api.data.gov/ed/collegescorecard/v1/schools.json?\""
   ]
  },
  {
   "cell_type": "code",
   "execution_count": 16,
   "metadata": {},
   "outputs": [
    {
     "ename": "SyntaxError",
     "evalue": "invalid syntax (<ipython-input-16-fa85f9b45629>, line 1)",
     "output_type": "error",
     "traceback": [
      "\u001b[1;36m  File \u001b[1;32m\"<ipython-input-16-fa85f9b45629>\"\u001b[1;36m, line \u001b[1;32m1\u001b[0m\n\u001b[1;33m    https://api.data.gov/ed/collegescorecard/v1/schools.json?school.degrees_awarded.predominant=2,3&fields=id,school.name,2013.student.size&api_key=CIZiGpPZu3BhVsXPSEDhBamg5yhNzo5wJBdLXmCj\u001b[0m\n\u001b[1;37m           ^\u001b[0m\n\u001b[1;31mSyntaxError\u001b[0m\u001b[1;31m:\u001b[0m invalid syntax\n"
     ]
    }
   ],
   "source": [
    "https://api.data.gov/ed/collegescorecard/v1/schools.json?school.degrees_awarded.predominant=2,3&fields=id,school.name,2013.student.size&api_key=CIZiGpPZu3BhVsXPSEDhBamg5yhNzo5wJBdLXmCj"
   ]
  },
  {
   "cell_type": "code",
   "execution_count": 28,
   "metadata": {},
   "outputs": [
    {
     "data": {
      "text/plain": [
       "'https://api.data.gov/ed/collegescorecard/v1/schools.json?school.degrees_awarded.predominant=2,3&fields=id,school.name,2013.student.size&api_key=CIZiGpPZu3BhVsXPSEDhBamg5yhNzo5wJBdLXmCj'"
      ]
     },
     "execution_count": 28,
     "metadata": {},
     "output_type": "execute_result"
    }
   ],
   "source": [
    "base_url + \"school.degrees_awarded.predominant=2,3&fields=id,school.name,2013.student.size\" + \"&api_key=\" + data_gov_api_key"
   ]
  },
  {
   "cell_type": "code",
   "execution_count": 29,
   "metadata": {},
   "outputs": [],
   "source": [
    "response = requests.get(base_url + \"school.degrees_awarded.predominant=2,3&fields=id,school.name,2013.student.size\" + \"&api_key=\" + data_gov_api_key).json()"
   ]
  },
  {
   "cell_type": "code",
   "execution_count": 30,
   "metadata": {},
   "outputs": [
    {
     "data": {
      "text/plain": [
       "{'metadata': {'total': 3203, 'page': 0, 'per_page': 20},\n",
       " 'results': [{'school.name': 'North Country Community College',\n",
       "   '2013.student.size': 1021,\n",
       "   'id': 194028},\n",
       "  {'school.name': 'Onondaga Community College',\n",
       "   '2013.student.size': 8664,\n",
       "   'id': 194222},\n",
       "  {'school.name': 'Schenectady County Community College',\n",
       "   '2013.student.size': 3874,\n",
       "   'id': 195322},\n",
       "  {'school.name': 'Sullivan County Community College',\n",
       "   '2013.student.size': 1282,\n",
       "   'id': 195988},\n",
       "  {'school.name': 'SUNY College of Technology at Canton',\n",
       "   '2013.student.size': 3354,\n",
       "   'id': 196015},\n",
       "  {'school.name': 'Tompkins Cortland Community College',\n",
       "   '2013.student.size': 3040,\n",
       "   'id': 196565},\n",
       "  {'school.name': 'Forsyth Technical Community College',\n",
       "   '2013.student.size': 8642,\n",
       "   'id': 198552},\n",
       "  {'school.name': 'Guilford Technical Community College',\n",
       "   '2013.student.size': 13419,\n",
       "   'id': 198622},\n",
       "  {'school.name': 'Haywood Community College',\n",
       "   '2013.student.size': 1927,\n",
       "   'id': 198668},\n",
       "  {'school.name': 'Rockingham Community College',\n",
       "   '2013.student.size': 1810,\n",
       "   'id': 199485},\n",
       "  {'school.name': 'Sampson Community College',\n",
       "   '2013.student.size': 1342,\n",
       "   'id': 199625},\n",
       "  {'school.name': 'Martin Community College',\n",
       "   '2013.student.size': 572,\n",
       "   'id': 198905},\n",
       "  {'school.name': 'Durham Technical Community College',\n",
       "   '2013.student.size': 5116,\n",
       "   'id': 198455},\n",
       "  {'school.name': 'United Tribes Technical College',\n",
       "   '2013.student.size': 486,\n",
       "   'id': 200554},\n",
       "  {'school.name': 'Southeastern Community College',\n",
       "   '2013.student.size': 1174,\n",
       "   'id': 199722},\n",
       "  {'school.name': 'Dakota College at Bottineau',\n",
       "   '2013.student.size': 470,\n",
       "   'id': 200314},\n",
       "  {'school.name': 'Surry Community College',\n",
       "   '2013.student.size': 2492,\n",
       "   'id': 199768},\n",
       "  {'school.name': 'Williston State College',\n",
       "   '2013.student.size': 558,\n",
       "   'id': 200341},\n",
       "  {'school.name': 'Aultman College of Nursing and Health Sciences',\n",
       "   '2013.student.size': 300,\n",
       "   'id': 201177},\n",
       "  {'school.name': 'Chatfield College',\n",
       "   '2013.student.size': 325,\n",
       "   'id': 201751}]}"
      ]
     },
     "execution_count": 30,
     "metadata": {},
     "output_type": "execute_result"
    }
   ],
   "source": [
    "response"
   ]
  },
  {
   "cell_type": "code",
   "execution_count": 34,
   "metadata": {},
   "outputs": [
    {
     "data": {
      "text/plain": [
       "[{'school.name': 'North Country Community College',\n",
       "  '2013.student.size': 1021,\n",
       "  'id': 194028},\n",
       " {'school.name': 'Onondaga Community College',\n",
       "  '2013.student.size': 8664,\n",
       "  'id': 194222},\n",
       " {'school.name': 'Schenectady County Community College',\n",
       "  '2013.student.size': 3874,\n",
       "  'id': 195322},\n",
       " {'school.name': 'Sullivan County Community College',\n",
       "  '2013.student.size': 1282,\n",
       "  'id': 195988},\n",
       " {'school.name': 'SUNY College of Technology at Canton',\n",
       "  '2013.student.size': 3354,\n",
       "  'id': 196015},\n",
       " {'school.name': 'Tompkins Cortland Community College',\n",
       "  '2013.student.size': 3040,\n",
       "  'id': 196565},\n",
       " {'school.name': 'Forsyth Technical Community College',\n",
       "  '2013.student.size': 8642,\n",
       "  'id': 198552},\n",
       " {'school.name': 'Guilford Technical Community College',\n",
       "  '2013.student.size': 13419,\n",
       "  'id': 198622},\n",
       " {'school.name': 'Haywood Community College',\n",
       "  '2013.student.size': 1927,\n",
       "  'id': 198668},\n",
       " {'school.name': 'Rockingham Community College',\n",
       "  '2013.student.size': 1810,\n",
       "  'id': 199485},\n",
       " {'school.name': 'Sampson Community College',\n",
       "  '2013.student.size': 1342,\n",
       "  'id': 199625},\n",
       " {'school.name': 'Martin Community College',\n",
       "  '2013.student.size': 572,\n",
       "  'id': 198905},\n",
       " {'school.name': 'Durham Technical Community College',\n",
       "  '2013.student.size': 5116,\n",
       "  'id': 198455},\n",
       " {'school.name': 'United Tribes Technical College',\n",
       "  '2013.student.size': 486,\n",
       "  'id': 200554},\n",
       " {'school.name': 'Southeastern Community College',\n",
       "  '2013.student.size': 1174,\n",
       "  'id': 199722},\n",
       " {'school.name': 'Dakota College at Bottineau',\n",
       "  '2013.student.size': 470,\n",
       "  'id': 200314},\n",
       " {'school.name': 'Surry Community College',\n",
       "  '2013.student.size': 2492,\n",
       "  'id': 199768},\n",
       " {'school.name': 'Williston State College',\n",
       "  '2013.student.size': 558,\n",
       "  'id': 200341},\n",
       " {'school.name': 'Aultman College of Nursing and Health Sciences',\n",
       "  '2013.student.size': 300,\n",
       "  'id': 201177},\n",
       " {'school.name': 'Chatfield College', '2013.student.size': 325, 'id': 201751}]"
      ]
     },
     "execution_count": 34,
     "metadata": {},
     "output_type": "execute_result"
    }
   ],
   "source": [
    "response['results']"
   ]
  },
  {
   "cell_type": "code",
   "execution_count": 35,
   "metadata": {},
   "outputs": [
    {
     "data": {
      "text/plain": [
       "{'school.name': 'North Country Community College',\n",
       " '2013.student.size': 1021,\n",
       " 'id': 194028}"
      ]
     },
     "execution_count": 35,
     "metadata": {},
     "output_type": "execute_result"
    }
   ],
   "source": [
    "response['results'][0]"
   ]
  }
 ],
 "metadata": {
  "kernelspec": {
   "display_name": "Python 3",
   "language": "python",
   "name": "python3"
  },
  "language_info": {
   "codemirror_mode": {
    "name": "ipython",
    "version": 3
   },
   "file_extension": ".py",
   "mimetype": "text/x-python",
   "name": "python",
   "nbconvert_exporter": "python",
   "pygments_lexer": "ipython3",
   "version": "3.7.7"
  }
 },
 "nbformat": 4,
 "nbformat_minor": 4
}
